{
 "cells": [
  {
   "cell_type": "markdown",
   "metadata": {},
   "source": [
    "# Проект по изучению популярности компьютерных игр\n",
    "\n",
    "## Предоставлены данные о выпуске / продаже компьютерных игр за заданный период\n"
   ]
  },
  {
   "cell_type": "code",
   "execution_count": 46,
   "metadata": {},
   "outputs": [],
   "source": [
    "# Импортирование необходимых библиотек\n",
    "import pandas as pd\n",
    "import numpy as np\n",
    "import scipy.stats as stats\n",
    "from matplotlib import pyplot as plt\n",
    "import seaborn as sns"
   ]
  },
  {
   "cell_type": "markdown",
   "metadata": {},
   "source": []
  },
  {
   "cell_type": "code",
   "execution_count": 47,
   "metadata": {},
   "outputs": [
    {
     "data": {
      "text/html": [
       "<div>\n",
       "<style scoped>\n",
       "    .dataframe tbody tr th:only-of-type {\n",
       "        vertical-align: middle;\n",
       "    }\n",
       "\n",
       "    .dataframe tbody tr th {\n",
       "        vertical-align: top;\n",
       "    }\n",
       "\n",
       "    .dataframe thead th {\n",
       "        text-align: right;\n",
       "    }\n",
       "</style>\n",
       "<table border=\"1\" class=\"dataframe\">\n",
       "  <thead>\n",
       "    <tr style=\"text-align: right;\">\n",
       "      <th></th>\n",
       "      <th>Name</th>\n",
       "      <th>Platform</th>\n",
       "      <th>Year_of_Release</th>\n",
       "      <th>Genre</th>\n",
       "      <th>NA_sales</th>\n",
       "      <th>EU_sales</th>\n",
       "      <th>JP_sales</th>\n",
       "      <th>Other_sales</th>\n",
       "      <th>Critic_Score</th>\n",
       "      <th>User_Score</th>\n",
       "      <th>Rating</th>\n",
       "    </tr>\n",
       "  </thead>\n",
       "  <tbody>\n",
       "    <tr>\n",
       "      <th>0</th>\n",
       "      <td>Wii Sports</td>\n",
       "      <td>Wii</td>\n",
       "      <td>2006.0</td>\n",
       "      <td>Sports</td>\n",
       "      <td>41.36</td>\n",
       "      <td>28.96</td>\n",
       "      <td>3.77</td>\n",
       "      <td>8.45</td>\n",
       "      <td>76.0</td>\n",
       "      <td>8</td>\n",
       "      <td>E</td>\n",
       "    </tr>\n",
       "    <tr>\n",
       "      <th>1</th>\n",
       "      <td>Super Mario Bros.</td>\n",
       "      <td>NES</td>\n",
       "      <td>1985.0</td>\n",
       "      <td>Platform</td>\n",
       "      <td>29.08</td>\n",
       "      <td>3.58</td>\n",
       "      <td>6.81</td>\n",
       "      <td>0.77</td>\n",
       "      <td>NaN</td>\n",
       "      <td>NaN</td>\n",
       "      <td>NaN</td>\n",
       "    </tr>\n",
       "    <tr>\n",
       "      <th>2</th>\n",
       "      <td>Mario Kart Wii</td>\n",
       "      <td>Wii</td>\n",
       "      <td>2008.0</td>\n",
       "      <td>Racing</td>\n",
       "      <td>15.68</td>\n",
       "      <td>12.76</td>\n",
       "      <td>3.79</td>\n",
       "      <td>3.29</td>\n",
       "      <td>82.0</td>\n",
       "      <td>8.3</td>\n",
       "      <td>E</td>\n",
       "    </tr>\n",
       "    <tr>\n",
       "      <th>3</th>\n",
       "      <td>Wii Sports Resort</td>\n",
       "      <td>Wii</td>\n",
       "      <td>2009.0</td>\n",
       "      <td>Sports</td>\n",
       "      <td>15.61</td>\n",
       "      <td>10.93</td>\n",
       "      <td>3.28</td>\n",
       "      <td>2.95</td>\n",
       "      <td>80.0</td>\n",
       "      <td>8</td>\n",
       "      <td>E</td>\n",
       "    </tr>\n",
       "    <tr>\n",
       "      <th>4</th>\n",
       "      <td>Pokemon Red/Pokemon Blue</td>\n",
       "      <td>GB</td>\n",
       "      <td>1996.0</td>\n",
       "      <td>Role-Playing</td>\n",
       "      <td>11.27</td>\n",
       "      <td>8.89</td>\n",
       "      <td>10.22</td>\n",
       "      <td>1.00</td>\n",
       "      <td>NaN</td>\n",
       "      <td>NaN</td>\n",
       "      <td>NaN</td>\n",
       "    </tr>\n",
       "    <tr>\n",
       "      <th>...</th>\n",
       "      <td>...</td>\n",
       "      <td>...</td>\n",
       "      <td>...</td>\n",
       "      <td>...</td>\n",
       "      <td>...</td>\n",
       "      <td>...</td>\n",
       "      <td>...</td>\n",
       "      <td>...</td>\n",
       "      <td>...</td>\n",
       "      <td>...</td>\n",
       "      <td>...</td>\n",
       "    </tr>\n",
       "    <tr>\n",
       "      <th>16710</th>\n",
       "      <td>Samurai Warriors: Sanada Maru</td>\n",
       "      <td>PS3</td>\n",
       "      <td>2016.0</td>\n",
       "      <td>Action</td>\n",
       "      <td>0.00</td>\n",
       "      <td>0.00</td>\n",
       "      <td>0.01</td>\n",
       "      <td>0.00</td>\n",
       "      <td>NaN</td>\n",
       "      <td>NaN</td>\n",
       "      <td>NaN</td>\n",
       "    </tr>\n",
       "    <tr>\n",
       "      <th>16711</th>\n",
       "      <td>LMA Manager 2007</td>\n",
       "      <td>X360</td>\n",
       "      <td>2006.0</td>\n",
       "      <td>Sports</td>\n",
       "      <td>0.00</td>\n",
       "      <td>0.01</td>\n",
       "      <td>0.00</td>\n",
       "      <td>0.00</td>\n",
       "      <td>NaN</td>\n",
       "      <td>NaN</td>\n",
       "      <td>NaN</td>\n",
       "    </tr>\n",
       "    <tr>\n",
       "      <th>16712</th>\n",
       "      <td>Haitaka no Psychedelica</td>\n",
       "      <td>PSV</td>\n",
       "      <td>2016.0</td>\n",
       "      <td>Adventure</td>\n",
       "      <td>0.00</td>\n",
       "      <td>0.00</td>\n",
       "      <td>0.01</td>\n",
       "      <td>0.00</td>\n",
       "      <td>NaN</td>\n",
       "      <td>NaN</td>\n",
       "      <td>NaN</td>\n",
       "    </tr>\n",
       "    <tr>\n",
       "      <th>16713</th>\n",
       "      <td>Spirits &amp; Spells</td>\n",
       "      <td>GBA</td>\n",
       "      <td>2003.0</td>\n",
       "      <td>Platform</td>\n",
       "      <td>0.01</td>\n",
       "      <td>0.00</td>\n",
       "      <td>0.00</td>\n",
       "      <td>0.00</td>\n",
       "      <td>NaN</td>\n",
       "      <td>NaN</td>\n",
       "      <td>NaN</td>\n",
       "    </tr>\n",
       "    <tr>\n",
       "      <th>16714</th>\n",
       "      <td>Winning Post 8 2016</td>\n",
       "      <td>PSV</td>\n",
       "      <td>2016.0</td>\n",
       "      <td>Simulation</td>\n",
       "      <td>0.00</td>\n",
       "      <td>0.00</td>\n",
       "      <td>0.01</td>\n",
       "      <td>0.00</td>\n",
       "      <td>NaN</td>\n",
       "      <td>NaN</td>\n",
       "      <td>NaN</td>\n",
       "    </tr>\n",
       "  </tbody>\n",
       "</table>\n",
       "<p>16715 rows × 11 columns</p>\n",
       "</div>"
      ],
      "text/plain": [
       "                                Name Platform  Year_of_Release         Genre  \\\n",
       "0                         Wii Sports      Wii           2006.0        Sports   \n",
       "1                  Super Mario Bros.      NES           1985.0      Platform   \n",
       "2                     Mario Kart Wii      Wii           2008.0        Racing   \n",
       "3                  Wii Sports Resort      Wii           2009.0        Sports   \n",
       "4           Pokemon Red/Pokemon Blue       GB           1996.0  Role-Playing   \n",
       "...                              ...      ...              ...           ...   \n",
       "16710  Samurai Warriors: Sanada Maru      PS3           2016.0        Action   \n",
       "16711               LMA Manager 2007     X360           2006.0        Sports   \n",
       "16712        Haitaka no Psychedelica      PSV           2016.0     Adventure   \n",
       "16713               Spirits & Spells      GBA           2003.0      Platform   \n",
       "16714            Winning Post 8 2016      PSV           2016.0    Simulation   \n",
       "\n",
       "       NA_sales  EU_sales  JP_sales  Other_sales  Critic_Score User_Score  \\\n",
       "0         41.36     28.96      3.77         8.45          76.0          8   \n",
       "1         29.08      3.58      6.81         0.77           NaN        NaN   \n",
       "2         15.68     12.76      3.79         3.29          82.0        8.3   \n",
       "3         15.61     10.93      3.28         2.95          80.0          8   \n",
       "4         11.27      8.89     10.22         1.00           NaN        NaN   \n",
       "...         ...       ...       ...          ...           ...        ...   \n",
       "16710      0.00      0.00      0.01         0.00           NaN        NaN   \n",
       "16711      0.00      0.01      0.00         0.00           NaN        NaN   \n",
       "16712      0.00      0.00      0.01         0.00           NaN        NaN   \n",
       "16713      0.01      0.00      0.00         0.00           NaN        NaN   \n",
       "16714      0.00      0.00      0.01         0.00           NaN        NaN   \n",
       "\n",
       "      Rating  \n",
       "0          E  \n",
       "1        NaN  \n",
       "2          E  \n",
       "3          E  \n",
       "4        NaN  \n",
       "...      ...  \n",
       "16710    NaN  \n",
       "16711    NaN  \n",
       "16712    NaN  \n",
       "16713    NaN  \n",
       "16714    NaN  \n",
       "\n",
       "[16715 rows x 11 columns]"
      ]
     },
     "metadata": {},
     "output_type": "display_data"
    },
    {
     "name": "stdout",
     "output_type": "stream",
     "text": [
      "<class 'pandas.core.frame.DataFrame'>\n",
      "RangeIndex: 16715 entries, 0 to 16714\n",
      "Data columns (total 11 columns):\n",
      " #   Column           Non-Null Count  Dtype  \n",
      "---  ------           --------------  -----  \n",
      " 0   Name             16713 non-null  object \n",
      " 1   Platform         16715 non-null  object \n",
      " 2   Year_of_Release  16446 non-null  float64\n",
      " 3   Genre            16713 non-null  object \n",
      " 4   NA_sales         16715 non-null  float64\n",
      " 5   EU_sales         16715 non-null  float64\n",
      " 6   JP_sales         16715 non-null  float64\n",
      " 7   Other_sales      16715 non-null  float64\n",
      " 8   Critic_Score     8137 non-null   float64\n",
      " 9   User_Score       10014 non-null  object \n",
      " 10  Rating           9949 non-null   object \n",
      "dtypes: float64(6), object(5)\n",
      "memory usage: 1.4+ MB\n"
     ]
    }
   ],
   "source": [
    "# Загрузка данных\n",
    "data = pd.read_csv('games.csv')\n",
    "display(data)\n",
    "data.info()"
   ]
  },
  {
   "cell_type": "code",
   "execution_count": 48,
   "metadata": {
    "scrolled": true
   },
   "outputs": [
    {
     "data": {
      "text/plain": [
       "0"
      ]
     },
     "execution_count": 48,
     "metadata": {},
     "output_type": "execute_result"
    }
   ],
   "source": [
    "# Проверка на наличие дубликатов\n",
    "data.duplicated().sum()"
   ]
  },
  {
   "cell_type": "markdown",
   "metadata": {},
   "source": [
    "### Подготовка данных\n",
    "- Замена названий столбцов приведение к нижнему регистру;\n",
    "- Преобразование данные в нужные типы;\n",
    "- Обработка пропусков при необходимости;\n",
    "- Подсчет суммарных продаж во всех регионах"
   ]
  },
  {
   "cell_type": "code",
   "execution_count": 49,
   "metadata": {
    "scrolled": false
   },
   "outputs": [
    {
     "data": {
      "text/html": [
       "<div>\n",
       "<style scoped>\n",
       "    .dataframe tbody tr th:only-of-type {\n",
       "        vertical-align: middle;\n",
       "    }\n",
       "\n",
       "    .dataframe tbody tr th {\n",
       "        vertical-align: top;\n",
       "    }\n",
       "\n",
       "    .dataframe thead th {\n",
       "        text-align: right;\n",
       "    }\n",
       "</style>\n",
       "<table border=\"1\" class=\"dataframe\">\n",
       "  <thead>\n",
       "    <tr style=\"text-align: right;\">\n",
       "      <th></th>\n",
       "      <th>name</th>\n",
       "      <th>platform</th>\n",
       "      <th>year_of_release</th>\n",
       "      <th>genre</th>\n",
       "      <th>na_sales</th>\n",
       "      <th>eu_sales</th>\n",
       "      <th>jp_sales</th>\n",
       "      <th>other_sales</th>\n",
       "      <th>critic_score</th>\n",
       "      <th>user_score</th>\n",
       "      <th>rating</th>\n",
       "    </tr>\n",
       "  </thead>\n",
       "  <tbody>\n",
       "    <tr>\n",
       "      <th>0</th>\n",
       "      <td>Wii Sports</td>\n",
       "      <td>Wii</td>\n",
       "      <td>2006.0</td>\n",
       "      <td>Sports</td>\n",
       "      <td>41.36</td>\n",
       "      <td>28.96</td>\n",
       "      <td>3.77</td>\n",
       "      <td>8.45</td>\n",
       "      <td>76.0</td>\n",
       "      <td>8</td>\n",
       "      <td>E</td>\n",
       "    </tr>\n",
       "    <tr>\n",
       "      <th>1</th>\n",
       "      <td>Super Mario Bros.</td>\n",
       "      <td>NES</td>\n",
       "      <td>1985.0</td>\n",
       "      <td>Platform</td>\n",
       "      <td>29.08</td>\n",
       "      <td>3.58</td>\n",
       "      <td>6.81</td>\n",
       "      <td>0.77</td>\n",
       "      <td>NaN</td>\n",
       "      <td>NaN</td>\n",
       "      <td>NaN</td>\n",
       "    </tr>\n",
       "    <tr>\n",
       "      <th>2</th>\n",
       "      <td>Mario Kart Wii</td>\n",
       "      <td>Wii</td>\n",
       "      <td>2008.0</td>\n",
       "      <td>Racing</td>\n",
       "      <td>15.68</td>\n",
       "      <td>12.76</td>\n",
       "      <td>3.79</td>\n",
       "      <td>3.29</td>\n",
       "      <td>82.0</td>\n",
       "      <td>8.3</td>\n",
       "      <td>E</td>\n",
       "    </tr>\n",
       "    <tr>\n",
       "      <th>3</th>\n",
       "      <td>Wii Sports Resort</td>\n",
       "      <td>Wii</td>\n",
       "      <td>2009.0</td>\n",
       "      <td>Sports</td>\n",
       "      <td>15.61</td>\n",
       "      <td>10.93</td>\n",
       "      <td>3.28</td>\n",
       "      <td>2.95</td>\n",
       "      <td>80.0</td>\n",
       "      <td>8</td>\n",
       "      <td>E</td>\n",
       "    </tr>\n",
       "    <tr>\n",
       "      <th>4</th>\n",
       "      <td>Pokemon Red/Pokemon Blue</td>\n",
       "      <td>GB</td>\n",
       "      <td>1996.0</td>\n",
       "      <td>Role-Playing</td>\n",
       "      <td>11.27</td>\n",
       "      <td>8.89</td>\n",
       "      <td>10.22</td>\n",
       "      <td>1.00</td>\n",
       "      <td>NaN</td>\n",
       "      <td>NaN</td>\n",
       "      <td>NaN</td>\n",
       "    </tr>\n",
       "    <tr>\n",
       "      <th>...</th>\n",
       "      <td>...</td>\n",
       "      <td>...</td>\n",
       "      <td>...</td>\n",
       "      <td>...</td>\n",
       "      <td>...</td>\n",
       "      <td>...</td>\n",
       "      <td>...</td>\n",
       "      <td>...</td>\n",
       "      <td>...</td>\n",
       "      <td>...</td>\n",
       "      <td>...</td>\n",
       "    </tr>\n",
       "    <tr>\n",
       "      <th>16710</th>\n",
       "      <td>Samurai Warriors: Sanada Maru</td>\n",
       "      <td>PS3</td>\n",
       "      <td>2016.0</td>\n",
       "      <td>Action</td>\n",
       "      <td>0.00</td>\n",
       "      <td>0.00</td>\n",
       "      <td>0.01</td>\n",
       "      <td>0.00</td>\n",
       "      <td>NaN</td>\n",
       "      <td>NaN</td>\n",
       "      <td>NaN</td>\n",
       "    </tr>\n",
       "    <tr>\n",
       "      <th>16711</th>\n",
       "      <td>LMA Manager 2007</td>\n",
       "      <td>X360</td>\n",
       "      <td>2006.0</td>\n",
       "      <td>Sports</td>\n",
       "      <td>0.00</td>\n",
       "      <td>0.01</td>\n",
       "      <td>0.00</td>\n",
       "      <td>0.00</td>\n",
       "      <td>NaN</td>\n",
       "      <td>NaN</td>\n",
       "      <td>NaN</td>\n",
       "    </tr>\n",
       "    <tr>\n",
       "      <th>16712</th>\n",
       "      <td>Haitaka no Psychedelica</td>\n",
       "      <td>PSV</td>\n",
       "      <td>2016.0</td>\n",
       "      <td>Adventure</td>\n",
       "      <td>0.00</td>\n",
       "      <td>0.00</td>\n",
       "      <td>0.01</td>\n",
       "      <td>0.00</td>\n",
       "      <td>NaN</td>\n",
       "      <td>NaN</td>\n",
       "      <td>NaN</td>\n",
       "    </tr>\n",
       "    <tr>\n",
       "      <th>16713</th>\n",
       "      <td>Spirits &amp; Spells</td>\n",
       "      <td>GBA</td>\n",
       "      <td>2003.0</td>\n",
       "      <td>Platform</td>\n",
       "      <td>0.01</td>\n",
       "      <td>0.00</td>\n",
       "      <td>0.00</td>\n",
       "      <td>0.00</td>\n",
       "      <td>NaN</td>\n",
       "      <td>NaN</td>\n",
       "      <td>NaN</td>\n",
       "    </tr>\n",
       "    <tr>\n",
       "      <th>16714</th>\n",
       "      <td>Winning Post 8 2016</td>\n",
       "      <td>PSV</td>\n",
       "      <td>2016.0</td>\n",
       "      <td>Simulation</td>\n",
       "      <td>0.00</td>\n",
       "      <td>0.00</td>\n",
       "      <td>0.01</td>\n",
       "      <td>0.00</td>\n",
       "      <td>NaN</td>\n",
       "      <td>NaN</td>\n",
       "      <td>NaN</td>\n",
       "    </tr>\n",
       "  </tbody>\n",
       "</table>\n",
       "<p>16715 rows × 11 columns</p>\n",
       "</div>"
      ],
      "text/plain": [
       "                                name platform  year_of_release         genre  \\\n",
       "0                         Wii Sports      Wii           2006.0        Sports   \n",
       "1                  Super Mario Bros.      NES           1985.0      Platform   \n",
       "2                     Mario Kart Wii      Wii           2008.0        Racing   \n",
       "3                  Wii Sports Resort      Wii           2009.0        Sports   \n",
       "4           Pokemon Red/Pokemon Blue       GB           1996.0  Role-Playing   \n",
       "...                              ...      ...              ...           ...   \n",
       "16710  Samurai Warriors: Sanada Maru      PS3           2016.0        Action   \n",
       "16711               LMA Manager 2007     X360           2006.0        Sports   \n",
       "16712        Haitaka no Psychedelica      PSV           2016.0     Adventure   \n",
       "16713               Spirits & Spells      GBA           2003.0      Platform   \n",
       "16714            Winning Post 8 2016      PSV           2016.0    Simulation   \n",
       "\n",
       "       na_sales  eu_sales  jp_sales  other_sales  critic_score user_score  \\\n",
       "0         41.36     28.96      3.77         8.45          76.0          8   \n",
       "1         29.08      3.58      6.81         0.77           NaN        NaN   \n",
       "2         15.68     12.76      3.79         3.29          82.0        8.3   \n",
       "3         15.61     10.93      3.28         2.95          80.0          8   \n",
       "4         11.27      8.89     10.22         1.00           NaN        NaN   \n",
       "...         ...       ...       ...          ...           ...        ...   \n",
       "16710      0.00      0.00      0.01         0.00           NaN        NaN   \n",
       "16711      0.00      0.01      0.00         0.00           NaN        NaN   \n",
       "16712      0.00      0.00      0.01         0.00           NaN        NaN   \n",
       "16713      0.01      0.00      0.00         0.00           NaN        NaN   \n",
       "16714      0.00      0.00      0.01         0.00           NaN        NaN   \n",
       "\n",
       "      rating  \n",
       "0          E  \n",
       "1        NaN  \n",
       "2          E  \n",
       "3          E  \n",
       "4        NaN  \n",
       "...      ...  \n",
       "16710    NaN  \n",
       "16711    NaN  \n",
       "16712    NaN  \n",
       "16713    NaN  \n",
       "16714    NaN  \n",
       "\n",
       "[16715 rows x 11 columns]"
      ]
     },
     "execution_count": 49,
     "metadata": {},
     "output_type": "execute_result"
    }
   ],
   "source": [
    "# Изменение регистра в названиях столбцов\n",
    "clms = list(data.columns)\n",
    "n_clms = {}\n",
    "for i in clms:\n",
    "    n_clms[i] = i.lower().strip()\n",
    "data = data.rename(columns=n_clms)\n",
    "data"
   ]
  },
  {
   "cell_type": "code",
   "execution_count": 50,
   "metadata": {},
   "outputs": [
    {
     "data": {
      "text/plain": [
       "name                  2\n",
       "platform              0\n",
       "year_of_release     269\n",
       "genre                 2\n",
       "na_sales              0\n",
       "eu_sales              0\n",
       "jp_sales              0\n",
       "other_sales           0\n",
       "critic_score       8578\n",
       "user_score         6701\n",
       "rating             6766\n",
       "dtype: int64"
      ]
     },
     "execution_count": 50,
     "metadata": {},
     "output_type": "execute_result"
    }
   ],
   "source": [
    "# Проверка на наличие пропущенных значений\n",
    "data.isna().sum()"
   ]
  },
  {
   "cell_type": "code",
   "execution_count": 51,
   "metadata": {},
   "outputs": [
    {
     "data": {
      "text/html": [
       "<div>\n",
       "<style scoped>\n",
       "    .dataframe tbody tr th:only-of-type {\n",
       "        vertical-align: middle;\n",
       "    }\n",
       "\n",
       "    .dataframe tbody tr th {\n",
       "        vertical-align: top;\n",
       "    }\n",
       "\n",
       "    .dataframe thead th {\n",
       "        text-align: right;\n",
       "    }\n",
       "</style>\n",
       "<table border=\"1\" class=\"dataframe\">\n",
       "  <thead>\n",
       "    <tr style=\"text-align: right;\">\n",
       "      <th></th>\n",
       "      <th>name</th>\n",
       "      <th>platform</th>\n",
       "      <th>year_of_release</th>\n",
       "      <th>genre</th>\n",
       "      <th>na_sales</th>\n",
       "      <th>eu_sales</th>\n",
       "      <th>jp_sales</th>\n",
       "      <th>other_sales</th>\n",
       "      <th>critic_score</th>\n",
       "      <th>user_score</th>\n",
       "      <th>rating</th>\n",
       "    </tr>\n",
       "  </thead>\n",
       "  <tbody>\n",
       "    <tr>\n",
       "      <th>659</th>\n",
       "      <td>NaN</td>\n",
       "      <td>GEN</td>\n",
       "      <td>1993.0</td>\n",
       "      <td>NaN</td>\n",
       "      <td>1.78</td>\n",
       "      <td>0.53</td>\n",
       "      <td>0.00</td>\n",
       "      <td>0.08</td>\n",
       "      <td>NaN</td>\n",
       "      <td>NaN</td>\n",
       "      <td>NaN</td>\n",
       "    </tr>\n",
       "    <tr>\n",
       "      <th>14244</th>\n",
       "      <td>NaN</td>\n",
       "      <td>GEN</td>\n",
       "      <td>1993.0</td>\n",
       "      <td>NaN</td>\n",
       "      <td>0.00</td>\n",
       "      <td>0.00</td>\n",
       "      <td>0.03</td>\n",
       "      <td>0.00</td>\n",
       "      <td>NaN</td>\n",
       "      <td>NaN</td>\n",
       "      <td>NaN</td>\n",
       "    </tr>\n",
       "  </tbody>\n",
       "</table>\n",
       "</div>"
      ],
      "text/plain": [
       "      name platform  year_of_release genre  na_sales  eu_sales  jp_sales  \\\n",
       "659    NaN      GEN           1993.0   NaN      1.78      0.53      0.00   \n",
       "14244  NaN      GEN           1993.0   NaN      0.00      0.00      0.03   \n",
       "\n",
       "       other_sales  critic_score user_score rating  \n",
       "659           0.08           NaN        NaN    NaN  \n",
       "14244         0.00           NaN        NaN    NaN  "
      ]
     },
     "execution_count": 51,
     "metadata": {},
     "output_type": "execute_result"
    }
   ],
   "source": [
    "# Просмотр информации об играх с отсутствующими названиями\n",
    "data.query('name.isna()')"
   ]
  },
  {
   "cell_type": "code",
   "execution_count": 52,
   "metadata": {},
   "outputs": [
    {
     "data": {
      "text/html": [
       "<div>\n",
       "<style scoped>\n",
       "    .dataframe tbody tr th:only-of-type {\n",
       "        vertical-align: middle;\n",
       "    }\n",
       "\n",
       "    .dataframe tbody tr th {\n",
       "        vertical-align: top;\n",
       "    }\n",
       "\n",
       "    .dataframe thead th {\n",
       "        text-align: right;\n",
       "    }\n",
       "</style>\n",
       "<table border=\"1\" class=\"dataframe\">\n",
       "  <thead>\n",
       "    <tr style=\"text-align: right;\">\n",
       "      <th></th>\n",
       "      <th>name</th>\n",
       "      <th>platform</th>\n",
       "      <th>year_of_release</th>\n",
       "      <th>genre</th>\n",
       "      <th>na_sales</th>\n",
       "      <th>eu_sales</th>\n",
       "      <th>jp_sales</th>\n",
       "      <th>other_sales</th>\n",
       "      <th>critic_score</th>\n",
       "      <th>user_score</th>\n",
       "      <th>rating</th>\n",
       "    </tr>\n",
       "  </thead>\n",
       "  <tbody>\n",
       "    <tr>\n",
       "      <th>0</th>\n",
       "      <td>Wii Sports</td>\n",
       "      <td>Wii</td>\n",
       "      <td>2006.0</td>\n",
       "      <td>Sports</td>\n",
       "      <td>41.36</td>\n",
       "      <td>28.96</td>\n",
       "      <td>3.77</td>\n",
       "      <td>8.45</td>\n",
       "      <td>76.0</td>\n",
       "      <td>8</td>\n",
       "      <td>E</td>\n",
       "    </tr>\n",
       "    <tr>\n",
       "      <th>1</th>\n",
       "      <td>Super Mario Bros.</td>\n",
       "      <td>NES</td>\n",
       "      <td>1985.0</td>\n",
       "      <td>Platform</td>\n",
       "      <td>29.08</td>\n",
       "      <td>3.58</td>\n",
       "      <td>6.81</td>\n",
       "      <td>0.77</td>\n",
       "      <td>NaN</td>\n",
       "      <td>NaN</td>\n",
       "      <td>NaN</td>\n",
       "    </tr>\n",
       "    <tr>\n",
       "      <th>2</th>\n",
       "      <td>Mario Kart Wii</td>\n",
       "      <td>Wii</td>\n",
       "      <td>2008.0</td>\n",
       "      <td>Racing</td>\n",
       "      <td>15.68</td>\n",
       "      <td>12.76</td>\n",
       "      <td>3.79</td>\n",
       "      <td>3.29</td>\n",
       "      <td>82.0</td>\n",
       "      <td>8.3</td>\n",
       "      <td>E</td>\n",
       "    </tr>\n",
       "    <tr>\n",
       "      <th>3</th>\n",
       "      <td>Wii Sports Resort</td>\n",
       "      <td>Wii</td>\n",
       "      <td>2009.0</td>\n",
       "      <td>Sports</td>\n",
       "      <td>15.61</td>\n",
       "      <td>10.93</td>\n",
       "      <td>3.28</td>\n",
       "      <td>2.95</td>\n",
       "      <td>80.0</td>\n",
       "      <td>8</td>\n",
       "      <td>E</td>\n",
       "    </tr>\n",
       "    <tr>\n",
       "      <th>4</th>\n",
       "      <td>Pokemon Red/Pokemon Blue</td>\n",
       "      <td>GB</td>\n",
       "      <td>1996.0</td>\n",
       "      <td>Role-Playing</td>\n",
       "      <td>11.27</td>\n",
       "      <td>8.89</td>\n",
       "      <td>10.22</td>\n",
       "      <td>1.00</td>\n",
       "      <td>NaN</td>\n",
       "      <td>NaN</td>\n",
       "      <td>NaN</td>\n",
       "    </tr>\n",
       "    <tr>\n",
       "      <th>...</th>\n",
       "      <td>...</td>\n",
       "      <td>...</td>\n",
       "      <td>...</td>\n",
       "      <td>...</td>\n",
       "      <td>...</td>\n",
       "      <td>...</td>\n",
       "      <td>...</td>\n",
       "      <td>...</td>\n",
       "      <td>...</td>\n",
       "      <td>...</td>\n",
       "      <td>...</td>\n",
       "    </tr>\n",
       "    <tr>\n",
       "      <th>16708</th>\n",
       "      <td>Samurai Warriors: Sanada Maru</td>\n",
       "      <td>PS3</td>\n",
       "      <td>2016.0</td>\n",
       "      <td>Action</td>\n",
       "      <td>0.00</td>\n",
       "      <td>0.00</td>\n",
       "      <td>0.01</td>\n",
       "      <td>0.00</td>\n",
       "      <td>NaN</td>\n",
       "      <td>NaN</td>\n",
       "      <td>NaN</td>\n",
       "    </tr>\n",
       "    <tr>\n",
       "      <th>16709</th>\n",
       "      <td>LMA Manager 2007</td>\n",
       "      <td>X360</td>\n",
       "      <td>2006.0</td>\n",
       "      <td>Sports</td>\n",
       "      <td>0.00</td>\n",
       "      <td>0.01</td>\n",
       "      <td>0.00</td>\n",
       "      <td>0.00</td>\n",
       "      <td>NaN</td>\n",
       "      <td>NaN</td>\n",
       "      <td>NaN</td>\n",
       "    </tr>\n",
       "    <tr>\n",
       "      <th>16710</th>\n",
       "      <td>Haitaka no Psychedelica</td>\n",
       "      <td>PSV</td>\n",
       "      <td>2016.0</td>\n",
       "      <td>Adventure</td>\n",
       "      <td>0.00</td>\n",
       "      <td>0.00</td>\n",
       "      <td>0.01</td>\n",
       "      <td>0.00</td>\n",
       "      <td>NaN</td>\n",
       "      <td>NaN</td>\n",
       "      <td>NaN</td>\n",
       "    </tr>\n",
       "    <tr>\n",
       "      <th>16711</th>\n",
       "      <td>Spirits &amp; Spells</td>\n",
       "      <td>GBA</td>\n",
       "      <td>2003.0</td>\n",
       "      <td>Platform</td>\n",
       "      <td>0.01</td>\n",
       "      <td>0.00</td>\n",
       "      <td>0.00</td>\n",
       "      <td>0.00</td>\n",
       "      <td>NaN</td>\n",
       "      <td>NaN</td>\n",
       "      <td>NaN</td>\n",
       "    </tr>\n",
       "    <tr>\n",
       "      <th>16712</th>\n",
       "      <td>Winning Post 8 2016</td>\n",
       "      <td>PSV</td>\n",
       "      <td>2016.0</td>\n",
       "      <td>Simulation</td>\n",
       "      <td>0.00</td>\n",
       "      <td>0.00</td>\n",
       "      <td>0.01</td>\n",
       "      <td>0.00</td>\n",
       "      <td>NaN</td>\n",
       "      <td>NaN</td>\n",
       "      <td>NaN</td>\n",
       "    </tr>\n",
       "  </tbody>\n",
       "</table>\n",
       "<p>16713 rows × 11 columns</p>\n",
       "</div>"
      ],
      "text/plain": [
       "                                name platform  year_of_release         genre  \\\n",
       "0                         Wii Sports      Wii           2006.0        Sports   \n",
       "1                  Super Mario Bros.      NES           1985.0      Platform   \n",
       "2                     Mario Kart Wii      Wii           2008.0        Racing   \n",
       "3                  Wii Sports Resort      Wii           2009.0        Sports   \n",
       "4           Pokemon Red/Pokemon Blue       GB           1996.0  Role-Playing   \n",
       "...                              ...      ...              ...           ...   \n",
       "16708  Samurai Warriors: Sanada Maru      PS3           2016.0        Action   \n",
       "16709               LMA Manager 2007     X360           2006.0        Sports   \n",
       "16710        Haitaka no Psychedelica      PSV           2016.0     Adventure   \n",
       "16711               Spirits & Spells      GBA           2003.0      Platform   \n",
       "16712            Winning Post 8 2016      PSV           2016.0    Simulation   \n",
       "\n",
       "       na_sales  eu_sales  jp_sales  other_sales  critic_score user_score  \\\n",
       "0         41.36     28.96      3.77         8.45          76.0          8   \n",
       "1         29.08      3.58      6.81         0.77           NaN        NaN   \n",
       "2         15.68     12.76      3.79         3.29          82.0        8.3   \n",
       "3         15.61     10.93      3.28         2.95          80.0          8   \n",
       "4         11.27      8.89     10.22         1.00           NaN        NaN   \n",
       "...         ...       ...       ...          ...           ...        ...   \n",
       "16708      0.00      0.00      0.01         0.00           NaN        NaN   \n",
       "16709      0.00      0.01      0.00         0.00           NaN        NaN   \n",
       "16710      0.00      0.00      0.01         0.00           NaN        NaN   \n",
       "16711      0.01      0.00      0.00         0.00           NaN        NaN   \n",
       "16712      0.00      0.00      0.01         0.00           NaN        NaN   \n",
       "\n",
       "      rating  \n",
       "0          E  \n",
       "1        NaN  \n",
       "2          E  \n",
       "3          E  \n",
       "4        NaN  \n",
       "...      ...  \n",
       "16708    NaN  \n",
       "16709    NaN  \n",
       "16710    NaN  \n",
       "16711    NaN  \n",
       "16712    NaN  \n",
       "\n",
       "[16713 rows x 11 columns]"
      ]
     },
     "execution_count": 52,
     "metadata": {},
     "output_type": "execute_result"
    }
   ],
   "source": [
    "# Удаление строк с отсутвующим названием (таковых только две)\n",
    "data = data.dropna(subset=['name']).reset_index(drop=True)\n",
    "data"
   ]
  },
  {
   "cell_type": "code",
   "execution_count": 53,
   "metadata": {
    "scrolled": false
   },
   "outputs": [
    {
     "data": {
      "image/png": "[encoded data removed]",
      "text/plain": [
       "<Figure size 1080x720 with 6 Axes>"
      ]
     },
     "metadata": {
      "needs_background": "light"
     },
     "output_type": "display_data"
    }
   ],
   "source": [
    "# Визуализация исходных данных\n",
    "data.hist(figsize=(15,10))\n",
    "plt.show()"
   ]
  },
  {
   "cell_type": "code",
   "execution_count": 54,
   "metadata": {
    "scrolled": true
   },
   "outputs": [
    {
     "data": {
      "image/png": "[encoded data removed]",
      "text/plain": [
       "<Figure size 432x288 with 1 Axes>"
      ]
     },
     "metadata": {
      "needs_background": "light"
     },
     "output_type": "display_data"
    }
   ],
   "source": [
    "# Просмотр и выбор годов выпуска, значимых для исследования\n",
    "data.boxplot(column=['year_of_release'])\n",
    "plt.show()\n"
   ]
  },
  {
   "cell_type": "markdown",
   "metadata": {},
   "source": [
    "##### Годы активных продаж\n",
    "* Основное количество игр продавалось в промежутке между 1993 и 2017 гг.\n",
    "* Предыдущие периоды можно объединить в одну категорию\n",
    "* Записи с отсутствующими годами удаляем"
   ]
  },
  {
   "cell_type": "code",
   "execution_count": 55,
   "metadata": {
    "scrolled": false
   },
   "outputs": [
    {
     "data": {
      "text/html": [
       "<div>\n",
       "<style scoped>\n",
       "    .dataframe tbody tr th:only-of-type {\n",
       "        vertical-align: middle;\n",
       "    }\n",
       "\n",
       "    .dataframe tbody tr th {\n",
       "        vertical-align: top;\n",
       "    }\n",
       "\n",
       "    .dataframe thead th {\n",
       "        text-align: right;\n",
       "    }\n",
       "</style>\n",
       "<table border=\"1\" class=\"dataframe\">\n",
       "  <thead>\n",
       "    <tr style=\"text-align: right;\">\n",
       "      <th></th>\n",
       "      <th>name</th>\n",
       "      <th>platform</th>\n",
       "      <th>year_of_release</th>\n",
       "      <th>genre</th>\n",
       "      <th>na_sales</th>\n",
       "      <th>eu_sales</th>\n",
       "      <th>jp_sales</th>\n",
       "      <th>other_sales</th>\n",
       "      <th>critic_score</th>\n",
       "      <th>user_score</th>\n",
       "      <th>rating</th>\n",
       "    </tr>\n",
       "  </thead>\n",
       "  <tbody>\n",
       "    <tr>\n",
       "      <th>0</th>\n",
       "      <td>Wii Sports</td>\n",
       "      <td>Wii</td>\n",
       "      <td>2006.0</td>\n",
       "      <td>Sports</td>\n",
       "      <td>41.36</td>\n",
       "      <td>28.96</td>\n",
       "      <td>3.77</td>\n",
       "      <td>8.45</td>\n",
       "      <td>76.0</td>\n",
       "      <td>8</td>\n",
       "      <td>E</td>\n",
       "    </tr>\n",
       "    <tr>\n",
       "      <th>1</th>\n",
       "      <td>Super Mario Bros.</td>\n",
       "      <td>NES</td>\n",
       "      <td>1985.0</td>\n",
       "      <td>Platform</td>\n",
       "      <td>29.08</td>\n",
       "      <td>3.58</td>\n",
       "      <td>6.81</td>\n",
       "      <td>0.77</td>\n",
       "      <td>NaN</td>\n",
       "      <td>NaN</td>\n",
       "      <td>NaN</td>\n",
       "    </tr>\n",
       "    <tr>\n",
       "      <th>2</th>\n",
       "      <td>Mario Kart Wii</td>\n",
       "      <td>Wii</td>\n",
       "      <td>2008.0</td>\n",
       "      <td>Racing</td>\n",
       "      <td>15.68</td>\n",
       "      <td>12.76</td>\n",
       "      <td>3.79</td>\n",
       "      <td>3.29</td>\n",
       "      <td>82.0</td>\n",
       "      <td>8.3</td>\n",
       "      <td>E</td>\n",
       "    </tr>\n",
       "    <tr>\n",
       "      <th>3</th>\n",
       "      <td>Wii Sports Resort</td>\n",
       "      <td>Wii</td>\n",
       "      <td>2009.0</td>\n",
       "      <td>Sports</td>\n",
       "      <td>15.61</td>\n",
       "      <td>10.93</td>\n",
       "      <td>3.28</td>\n",
       "      <td>2.95</td>\n",
       "      <td>80.0</td>\n",
       "      <td>8</td>\n",
       "      <td>E</td>\n",
       "    </tr>\n",
       "    <tr>\n",
       "      <th>4</th>\n",
       "      <td>Pokemon Red/Pokemon Blue</td>\n",
       "      <td>GB</td>\n",
       "      <td>1996.0</td>\n",
       "      <td>Role-Playing</td>\n",
       "      <td>11.27</td>\n",
       "      <td>8.89</td>\n",
       "      <td>10.22</td>\n",
       "      <td>1.00</td>\n",
       "      <td>NaN</td>\n",
       "      <td>NaN</td>\n",
       "      <td>NaN</td>\n",
       "    </tr>\n",
       "    <tr>\n",
       "      <th>...</th>\n",
       "      <td>...</td>\n",
       "      <td>...</td>\n",
       "      <td>...</td>\n",
       "      <td>...</td>\n",
       "      <td>...</td>\n",
       "      <td>...</td>\n",
       "      <td>...</td>\n",
       "      <td>...</td>\n",
       "      <td>...</td>\n",
       "      <td>...</td>\n",
       "      <td>...</td>\n",
       "    </tr>\n",
       "    <tr>\n",
       "      <th>16439</th>\n",
       "      <td>Samurai Warriors: Sanada Maru</td>\n",
       "      <td>PS3</td>\n",
       "      <td>2016.0</td>\n",
       "      <td>Action</td>\n",
       "      <td>0.00</td>\n",
       "      <td>0.00</td>\n",
       "      <td>0.01</td>\n",
       "      <td>0.00</td>\n",
       "      <td>NaN</td>\n",
       "      <td>NaN</td>\n",
       "      <td>NaN</td>\n",
       "    </tr>\n",
       "    <tr>\n",
       "      <th>16440</th>\n",
       "      <td>LMA Manager 2007</td>\n",
       "      <td>X360</td>\n",
       "      <td>2006.0</td>\n",
       "      <td>Sports</td>\n",
       "      <td>0.00</td>\n",
       "      <td>0.01</td>\n",
       "      <td>0.00</td>\n",
       "      <td>0.00</td>\n",
       "      <td>NaN</td>\n",
       "      <td>NaN</td>\n",
       "      <td>NaN</td>\n",
       "    </tr>\n",
       "    <tr>\n",
       "      <th>16441</th>\n",
       "      <td>Haitaka no Psychedelica</td>\n",
       "      <td>PSV</td>\n",
       "      <td>2016.0</td>\n",
       "      <td>Adventure</td>\n",
       "      <td>0.00</td>\n",
       "      <td>0.00</td>\n",
       "      <td>0.01</td>\n",
       "      <td>0.00</td>\n",
       "      <td>NaN</td>\n",
       "      <td>NaN</td>\n",
       "      <td>NaN</td>\n",
       "    </tr>\n",
       "    <tr>\n",
       "      <th>16442</th>\n",
       "      <td>Spirits &amp; Spells</td>\n",
       "      <td>GBA</td>\n",
       "      <td>2003.0</td>\n",
       "      <td>Platform</td>\n",
       "      <td>0.01</td>\n",
       "      <td>0.00</td>\n",
       "      <td>0.00</td>\n",
       "      <td>0.00</td>\n",
       "      <td>NaN</td>\n",
       "      <td>NaN</td>\n",
       "      <td>NaN</td>\n",
       "    </tr>\n",
       "    <tr>\n",
       "      <th>16443</th>\n",
       "      <td>Winning Post 8 2016</td>\n",
       "      <td>PSV</td>\n",
       "      <td>2016.0</td>\n",
       "      <td>Simulation</td>\n",
       "      <td>0.00</td>\n",
       "      <td>0.00</td>\n",
       "      <td>0.01</td>\n",
       "      <td>0.00</td>\n",
       "      <td>NaN</td>\n",
       "      <td>NaN</td>\n",
       "      <td>NaN</td>\n",
       "    </tr>\n",
       "  </tbody>\n",
       "</table>\n",
       "<p>16444 rows × 11 columns</p>\n",
       "</div>"
      ],
      "text/plain": [
       "                                name platform  year_of_release         genre  \\\n",
       "0                         Wii Sports      Wii           2006.0        Sports   \n",
       "1                  Super Mario Bros.      NES           1985.0      Platform   \n",
       "2                     Mario Kart Wii      Wii           2008.0        Racing   \n",
       "3                  Wii Sports Resort      Wii           2009.0        Sports   \n",
       "4           Pokemon Red/Pokemon Blue       GB           1996.0  Role-Playing   \n",
       "...                              ...      ...              ...           ...   \n",
       "16439  Samurai Warriors: Sanada Maru      PS3           2016.0        Action   \n",
       "16440               LMA Manager 2007     X360           2006.0        Sports   \n",
       "16441        Haitaka no Psychedelica      PSV           2016.0     Adventure   \n",
       "16442               Spirits & Spells      GBA           2003.0      Platform   \n",
       "16443            Winning Post 8 2016      PSV           2016.0    Simulation   \n",
       "\n",
       "       na_sales  eu_sales  jp_sales  other_sales  critic_score user_score  \\\n",
       "0         41.36     28.96      3.77         8.45          76.0          8   \n",
       "1         29.08      3.58      6.81         0.77           NaN        NaN   \n",
       "2         15.68     12.76      3.79         3.29          82.0        8.3   \n",
       "3         15.61     10.93      3.28         2.95          80.0          8   \n",
       "4         11.27      8.89     10.22         1.00           NaN        NaN   \n",
       "...         ...       ...       ...          ...           ...        ...   \n",
       "16439      0.00      0.00      0.01         0.00           NaN        NaN   \n",
       "16440      0.00      0.01      0.00         0.00           NaN        NaN   \n",
       "16441      0.00      0.00      0.01         0.00           NaN        NaN   \n",
       "16442      0.01      0.00      0.00         0.00           NaN        NaN   \n",
       "16443      0.00      0.00      0.01         0.00           NaN        NaN   \n",
       "\n",
       "      rating  \n",
       "0          E  \n",
       "1        NaN  \n",
       "2          E  \n",
       "3          E  \n",
       "4        NaN  \n",
       "...      ...  \n",
       "16439    NaN  \n",
       "16440    NaN  \n",
       "16441    NaN  \n",
       "16442    NaN  \n",
       "16443    NaN  \n",
       "\n",
       "[16444 rows x 11 columns]"
      ]
     },
     "execution_count": 55,
     "metadata": {},
     "output_type": "execute_result"
    }
   ],
   "source": [
    "# Удаление строк с неизвестным годом \n",
    "data = data.dropna(subset=['year_of_release'], axis=0)\n",
    "data = data.reset_index(drop=True)\n",
    "data"
   ]
  },
  {
   "cell_type": "code",
   "execution_count": 56,
   "metadata": {},
   "outputs": [
    {
     "data": {
      "text/html": [
       "<div>\n",
       "<style scoped>\n",
       "    .dataframe tbody tr th:only-of-type {\n",
       "        vertical-align: middle;\n",
       "    }\n",
       "\n",
       "    .dataframe tbody tr th {\n",
       "        vertical-align: top;\n",
       "    }\n",
       "\n",
       "    .dataframe thead th {\n",
       "        text-align: right;\n",
       "    }\n",
       "</style>\n",
       "<table border=\"1\" class=\"dataframe\">\n",
       "  <thead>\n",
       "    <tr style=\"text-align: right;\">\n",
       "      <th></th>\n",
       "      <th>name</th>\n",
       "      <th>platform</th>\n",
       "      <th>year_of_release</th>\n",
       "      <th>genre</th>\n",
       "      <th>na_sales</th>\n",
       "      <th>eu_sales</th>\n",
       "      <th>jp_sales</th>\n",
       "      <th>other_sales</th>\n",
       "      <th>critic_score</th>\n",
       "      <th>user_score</th>\n",
       "      <th>rating</th>\n",
       "      <th>total_sales</th>\n",
       "    </tr>\n",
       "  </thead>\n",
       "  <tbody>\n",
       "    <tr>\n",
       "      <th>0</th>\n",
       "      <td>Wii Sports</td>\n",
       "      <td>Wii</td>\n",
       "      <td>2006.0</td>\n",
       "      <td>Sports</td>\n",
       "      <td>41.36</td>\n",
       "      <td>28.96</td>\n",
       "      <td>3.77</td>\n",
       "      <td>8.45</td>\n",
       "      <td>76.0</td>\n",
       "      <td>8</td>\n",
       "      <td>E</td>\n",
       "      <td>82.54</td>\n",
       "    </tr>\n",
       "    <tr>\n",
       "      <th>1</th>\n",
       "      <td>Super Mario Bros.</td>\n",
       "      <td>NES</td>\n",
       "      <td>1985.0</td>\n",
       "      <td>Platform</td>\n",
       "      <td>29.08</td>\n",
       "      <td>3.58</td>\n",
       "      <td>6.81</td>\n",
       "      <td>0.77</td>\n",
       "      <td>NaN</td>\n",
       "      <td>NaN</td>\n",
       "      <td>NaN</td>\n",
       "      <td>40.24</td>\n",
       "    </tr>\n",
       "    <tr>\n",
       "      <th>2</th>\n",
       "      <td>Mario Kart Wii</td>\n",
       "      <td>Wii</td>\n",
       "      <td>2008.0</td>\n",
       "      <td>Racing</td>\n",
       "      <td>15.68</td>\n",
       "      <td>12.76</td>\n",
       "      <td>3.79</td>\n",
       "      <td>3.29</td>\n",
       "      <td>82.0</td>\n",
       "      <td>8.3</td>\n",
       "      <td>E</td>\n",
       "      <td>35.52</td>\n",
       "    </tr>\n",
       "    <tr>\n",
       "      <th>3</th>\n",
       "      <td>Wii Sports Resort</td>\n",
       "      <td>Wii</td>\n",
       "      <td>2009.0</td>\n",
       "      <td>Sports</td>\n",
       "      <td>15.61</td>\n",
       "      <td>10.93</td>\n",
       "      <td>3.28</td>\n",
       "      <td>2.95</td>\n",
       "      <td>80.0</td>\n",
       "      <td>8</td>\n",
       "      <td>E</td>\n",
       "      <td>32.77</td>\n",
       "    </tr>\n",
       "    <tr>\n",
       "      <th>4</th>\n",
       "      <td>Pokemon Red/Pokemon Blue</td>\n",
       "      <td>GB</td>\n",
       "      <td>1996.0</td>\n",
       "      <td>Role-Playing</td>\n",
       "      <td>11.27</td>\n",
       "      <td>8.89</td>\n",
       "      <td>10.22</td>\n",
       "      <td>1.00</td>\n",
       "      <td>NaN</td>\n",
       "      <td>NaN</td>\n",
       "      <td>NaN</td>\n",
       "      <td>31.38</td>\n",
       "    </tr>\n",
       "    <tr>\n",
       "      <th>...</th>\n",
       "      <td>...</td>\n",
       "      <td>...</td>\n",
       "      <td>...</td>\n",
       "      <td>...</td>\n",
       "      <td>...</td>\n",
       "      <td>...</td>\n",
       "      <td>...</td>\n",
       "      <td>...</td>\n",
       "      <td>...</td>\n",
       "      <td>...</td>\n",
       "      <td>...</td>\n",
       "      <td>...</td>\n",
       "    </tr>\n",
       "    <tr>\n",
       "      <th>16439</th>\n",
       "      <td>Samurai Warriors: Sanada Maru</td>\n",
       "      <td>PS3</td>\n",
       "      <td>2016.0</td>\n",
       "      <td>Action</td>\n",
       "      <td>0.00</td>\n",
       "      <td>0.00</td>\n",
       "      <td>0.01</td>\n",
       "      <td>0.00</td>\n",
       "      <td>NaN</td>\n",
       "      <td>NaN</td>\n",
       "      <td>NaN</td>\n",
       "      <td>0.01</td>\n",
       "    </tr>\n",
       "    <tr>\n",
       "      <th>16440</th>\n",
       "      <td>LMA Manager 2007</td>\n",
       "      <td>X360</td>\n",
       "      <td>2006.0</td>\n",
       "      <td>Sports</td>\n",
       "      <td>0.00</td>\n",
       "      <td>0.01</td>\n",
       "      <td>0.00</td>\n",
       "      <td>0.00</td>\n",
       "      <td>NaN</td>\n",
       "      <td>NaN</td>\n",
       "      <td>NaN</td>\n",
       "      <td>0.01</td>\n",
       "    </tr>\n",
       "    <tr>\n",
       "      <th>16441</th>\n",
       "      <td>Haitaka no Psychedelica</td>\n",
       "      <td>PSV</td>\n",
       "      <td>2016.0</td>\n",
       "      <td>Adventure</td>\n",
       "      <td>0.00</td>\n",
       "      <td>0.00</td>\n",
       "      <td>0.01</td>\n",
       "      <td>0.00</td>\n",
       "      <td>NaN</td>\n",
       "      <td>NaN</td>\n",
       "      <td>NaN</td>\n",
       "      <td>0.01</td>\n",
       "    </tr>\n",
       "    <tr>\n",
       "      <th>16442</th>\n",
       "      <td>Spirits &amp; Spells</td>\n",
       "      <td>GBA</td>\n",
       "      <td>2003.0</td>\n",
       "      <td>Platform</td>\n",
       "      <td>0.01</td>\n",
       "      <td>0.00</td>\n",
       "      <td>0.00</td>\n",
       "      <td>0.00</td>\n",
       "      <td>NaN</td>\n",
       "      <td>NaN</td>\n",
       "      <td>NaN</td>\n",
       "      <td>0.01</td>\n",
       "    </tr>\n",
       "    <tr>\n",
       "      <th>16443</th>\n",
       "      <td>Winning Post 8 2016</td>\n",
       "      <td>PSV</td>\n",
       "      <td>2016.0</td>\n",
       "      <td>Simulation</td>\n",
       "      <td>0.00</td>\n",
       "      <td>0.00</td>\n",
       "      <td>0.01</td>\n",
       "      <td>0.00</td>\n",
       "      <td>NaN</td>\n",
       "      <td>NaN</td>\n",
       "      <td>NaN</td>\n",
       "      <td>0.01</td>\n",
       "    </tr>\n",
       "  </tbody>\n",
       "</table>\n",
       "<p>16444 rows × 12 columns</p>\n",
       "</div>"
      ],
      "text/plain": [
       "                                name platform  year_of_release         genre  \\\n",
       "0                         Wii Sports      Wii           2006.0        Sports   \n",
       "1                  Super Mario Bros.      NES           1985.0      Platform   \n",
       "2                     Mario Kart Wii      Wii           2008.0        Racing   \n",
       "3                  Wii Sports Resort      Wii           2009.0        Sports   \n",
       "4           Pokemon Red/Pokemon Blue       GB           1996.0  Role-Playing   \n",
       "...                              ...      ...              ...           ...   \n",
       "16439  Samurai Warriors: Sanada Maru      PS3           2016.0        Action   \n",
       "16440               LMA Manager 2007     X360           2006.0        Sports   \n",
       "16441        Haitaka no Psychedelica      PSV           2016.0     Adventure   \n",
       "16442               Spirits & Spells      GBA           2003.0      Platform   \n",
       "16443            Winning Post 8 2016      PSV           2016.0    Simulation   \n",
       "\n",
       "       na_sales  eu_sales  jp_sales  other_sales  critic_score user_score  \\\n",
       "0         41.36     28.96      3.77         8.45          76.0          8   \n",
       "1         29.08      3.58      6.81         0.77           NaN        NaN   \n",
       "2         15.68     12.76      3.79         3.29          82.0        8.3   \n",
       "3         15.61     10.93      3.28         2.95          80.0          8   \n",
       "4         11.27      8.89     10.22         1.00           NaN        NaN   \n",
       "...         ...       ...       ...          ...           ...        ...   \n",
       "16439      0.00      0.00      0.01         0.00           NaN        NaN   \n",
       "16440      0.00      0.01      0.00         0.00           NaN        NaN   \n",
       "16441      0.00      0.00      0.01         0.00           NaN        NaN   \n",
       "16442      0.01      0.00      0.00         0.00           NaN        NaN   \n",
       "16443      0.00      0.00      0.01         0.00           NaN        NaN   \n",
       "\n",
       "      rating  total_sales  \n",
       "0          E        82.54  \n",
       "1        NaN        40.24  \n",
       "2          E        35.52  \n",
       "3          E        32.77  \n",
       "4        NaN        31.38  \n",
       "...      ...          ...  \n",
       "16439    NaN         0.01  \n",
       "16440    NaN         0.01  \n",
       "16441    NaN         0.01  \n",
       "16442    NaN         0.01  \n",
       "16443    NaN         0.01  \n",
       "\n",
       "[16444 rows x 12 columns]"
      ]
     },
     "execution_count": 56,
     "metadata": {},
     "output_type": "execute_result"
    }
   ],
   "source": [
    "# Создание столбца с суммой глобальных продаж\n",
    "data['total_sales'] = data['na_sales'] + data['eu_sales'] + data['jp_sales'] + data['other_sales'] \n",
    "data"
   ]
  },
  {
   "cell_type": "code",
   "execution_count": 57,
   "metadata": {
    "scrolled": true
   },
   "outputs": [
    {
     "data": {
      "image/png": "[encoded data removed]",
      "text/plain": [
       "<Figure size 1080x360 with 1 Axes>"
      ]
     },
     "metadata": {
      "needs_background": "light"
     },
     "output_type": "display_data"
    }
   ],
   "source": [
    "# Просмотр данных по годам\n",
    "data['year_of_release'] = data['year_of_release'].astype(int)\n",
    "(data.pivot_table(index=['year_of_release'],\n",
    "                 values=['total_sales', 'rating'],\n",
    "                 aggfunc={'total_sales':'sum', 'rating':'count'})\n",
    " .plot(kind='bar', grid=True, figsize=(15, 5), xlabel='Год выпуска', ylabel='Глобальные продажи, $m /\\n Количество присвоенных рейтингов')\n",
    ")\n",
    "plt.show()"
   ]
  },
  {
   "cell_type": "code",
   "execution_count": 58,
   "metadata": {
    "scrolled": true
   },
   "outputs": [
    {
     "data": {
      "text/html": [
       "<div>\n",
       "<style scoped>\n",
       "    .dataframe tbody tr th:only-of-type {\n",
       "        vertical-align: middle;\n",
       "    }\n",
       "\n",
       "    .dataframe tbody tr th {\n",
       "        vertical-align: top;\n",
       "    }\n",
       "\n",
       "    .dataframe thead th {\n",
       "        text-align: right;\n",
       "    }\n",
       "</style>\n",
       "<table border=\"1\" class=\"dataframe\">\n",
       "  <thead>\n",
       "    <tr style=\"text-align: right;\">\n",
       "      <th></th>\n",
       "      <th>year_of_release</th>\n",
       "      <th>na_sales</th>\n",
       "      <th>eu_sales</th>\n",
       "      <th>jp_sales</th>\n",
       "      <th>other_sales</th>\n",
       "      <th>critic_score</th>\n",
       "      <th>total_sales</th>\n",
       "    </tr>\n",
       "  </thead>\n",
       "  <tbody>\n",
       "    <tr>\n",
       "      <th>year_of_release</th>\n",
       "      <td>1.000000</td>\n",
       "      <td>-0.092326</td>\n",
       "      <td>0.004045</td>\n",
       "      <td>-0.168477</td>\n",
       "      <td>0.037821</td>\n",
       "      <td>0.011411</td>\n",
       "      <td>-0.076220</td>\n",
       "    </tr>\n",
       "    <tr>\n",
       "      <th>na_sales</th>\n",
       "      <td>-0.092326</td>\n",
       "      <td>1.000000</td>\n",
       "      <td>0.766546</td>\n",
       "      <td>0.451162</td>\n",
       "      <td>0.638479</td>\n",
       "      <td>0.240083</td>\n",
       "      <td>0.941241</td>\n",
       "    </tr>\n",
       "    <tr>\n",
       "      <th>eu_sales</th>\n",
       "      <td>0.004045</td>\n",
       "      <td>0.766546</td>\n",
       "      <td>1.000000</td>\n",
       "      <td>0.435894</td>\n",
       "      <td>0.722679</td>\n",
       "      <td>0.221276</td>\n",
       "      <td>0.901673</td>\n",
       "    </tr>\n",
       "    <tr>\n",
       "      <th>jp_sales</th>\n",
       "      <td>-0.168477</td>\n",
       "      <td>0.451162</td>\n",
       "      <td>0.435894</td>\n",
       "      <td>1.000000</td>\n",
       "      <td>0.291562</td>\n",
       "      <td>0.153474</td>\n",
       "      <td>0.613305</td>\n",
       "    </tr>\n",
       "    <tr>\n",
       "      <th>other_sales</th>\n",
       "      <td>0.037821</td>\n",
       "      <td>0.638479</td>\n",
       "      <td>0.722679</td>\n",
       "      <td>0.291562</td>\n",
       "      <td>1.000000</td>\n",
       "      <td>0.198410</td>\n",
       "      <td>0.748930</td>\n",
       "    </tr>\n",
       "    <tr>\n",
       "      <th>critic_score</th>\n",
       "      <td>0.011411</td>\n",
       "      <td>0.240083</td>\n",
       "      <td>0.221276</td>\n",
       "      <td>0.153474</td>\n",
       "      <td>0.198410</td>\n",
       "      <td>1.000000</td>\n",
       "      <td>0.245349</td>\n",
       "    </tr>\n",
       "    <tr>\n",
       "      <th>total_sales</th>\n",
       "      <td>-0.076220</td>\n",
       "      <td>0.941241</td>\n",
       "      <td>0.901673</td>\n",
       "      <td>0.613305</td>\n",
       "      <td>0.748930</td>\n",
       "      <td>0.245349</td>\n",
       "      <td>1.000000</td>\n",
       "    </tr>\n",
       "  </tbody>\n",
       "</table>\n",
       "</div>"
      ],
      "text/plain": [
       "                 year_of_release  na_sales  eu_sales  jp_sales  other_sales  \\\n",
       "year_of_release         1.000000 -0.092326  0.004045 -0.168477     0.037821   \n",
       "na_sales               -0.092326  1.000000  0.766546  0.451162     0.638479   \n",
       "eu_sales                0.004045  0.766546  1.000000  0.435894     0.722679   \n",
       "jp_sales               -0.168477  0.451162  0.435894  1.000000     0.291562   \n",
       "other_sales             0.037821  0.638479  0.722679  0.291562     1.000000   \n",
       "critic_score            0.011411  0.240083  0.221276  0.153474     0.198410   \n",
       "total_sales            -0.076220  0.941241  0.901673  0.613305     0.748930   \n",
       "\n",
       "                 critic_score  total_sales  \n",
       "year_of_release      0.011411    -0.076220  \n",
       "na_sales             0.240083     0.941241  \n",
       "eu_sales             0.221276     0.901673  \n",
       "jp_sales             0.153474     0.613305  \n",
       "other_sales          0.198410     0.748930  \n",
       "critic_score         1.000000     0.245349  \n",
       "total_sales          0.245349     1.000000  "
      ]
     },
     "execution_count": 58,
     "metadata": {},
     "output_type": "execute_result"
    }
   ],
   "source": [
    "# Матрица корреляции исходных величин\n",
    "data.corr()"
   ]
  },
  {
   "cell_type": "markdown",
   "metadata": {},
   "source": [
    "* Зависимость наблюдается только между объемами продаж, что в общем очевидно"
   ]
  },
  {
   "cell_type": "code",
   "execution_count": 59,
   "metadata": {},
   "outputs": [
    {
     "name": "stdout",
     "output_type": "stream",
     "text": [
      "<class 'int'> 11\n"
     ]
    }
   ],
   "source": [
    "# Количество лет, с объединяемыми данными\n",
    "old_years = data.query('year_of_release < 1991')['year_of_release'].nunique()\n",
    "print(type(old_years), old_years)"
   ]
  },
  {
   "cell_type": "code",
   "execution_count": 60,
   "metadata": {
    "scrolled": false
   },
   "outputs": [
    {
     "data": {
      "text/html": [
       "<div>\n",
       "<style scoped>\n",
       "    .dataframe tbody tr th:only-of-type {\n",
       "        vertical-align: middle;\n",
       "    }\n",
       "\n",
       "    .dataframe tbody tr th {\n",
       "        vertical-align: top;\n",
       "    }\n",
       "\n",
       "    .dataframe thead th {\n",
       "        text-align: right;\n",
       "    }\n",
       "</style>\n",
       "<table border=\"1\" class=\"dataframe\">\n",
       "  <thead>\n",
       "    <tr style=\"text-align: right;\">\n",
       "      <th></th>\n",
       "      <th>name</th>\n",
       "      <th>platform</th>\n",
       "      <th>year_of_release</th>\n",
       "      <th>genre</th>\n",
       "      <th>na_sales</th>\n",
       "      <th>eu_sales</th>\n",
       "      <th>jp_sales</th>\n",
       "      <th>other_sales</th>\n",
       "      <th>critic_score</th>\n",
       "      <th>user_score</th>\n",
       "      <th>rating</th>\n",
       "      <th>total_sales</th>\n",
       "    </tr>\n",
       "  </thead>\n",
       "  <tbody>\n",
       "    <tr>\n",
       "      <th>0</th>\n",
       "      <td>Wii Sports</td>\n",
       "      <td>Wii</td>\n",
       "      <td>2006</td>\n",
       "      <td>Sports</td>\n",
       "      <td>41.36</td>\n",
       "      <td>28.96</td>\n",
       "      <td>3.77</td>\n",
       "      <td>8.45</td>\n",
       "      <td>76.0</td>\n",
       "      <td>8</td>\n",
       "      <td>E</td>\n",
       "      <td>82.54</td>\n",
       "    </tr>\n",
       "    <tr>\n",
       "      <th>1</th>\n",
       "      <td>Super Mario Bros.</td>\n",
       "      <td>NES</td>\n",
       "      <td>1990</td>\n",
       "      <td>Platform</td>\n",
       "      <td>29.08</td>\n",
       "      <td>3.58</td>\n",
       "      <td>6.81</td>\n",
       "      <td>0.77</td>\n",
       "      <td>NaN</td>\n",
       "      <td>NaN</td>\n",
       "      <td>NaN</td>\n",
       "      <td>40.24</td>\n",
       "    </tr>\n",
       "    <tr>\n",
       "      <th>2</th>\n",
       "      <td>Mario Kart Wii</td>\n",
       "      <td>Wii</td>\n",
       "      <td>2008</td>\n",
       "      <td>Racing</td>\n",
       "      <td>15.68</td>\n",
       "      <td>12.76</td>\n",
       "      <td>3.79</td>\n",
       "      <td>3.29</td>\n",
       "      <td>82.0</td>\n",
       "      <td>8.3</td>\n",
       "      <td>E</td>\n",
       "      <td>35.52</td>\n",
       "    </tr>\n",
       "    <tr>\n",
       "      <th>3</th>\n",
       "      <td>Wii Sports Resort</td>\n",
       "      <td>Wii</td>\n",
       "      <td>2009</td>\n",
       "      <td>Sports</td>\n",
       "      <td>15.61</td>\n",
       "      <td>10.93</td>\n",
       "      <td>3.28</td>\n",
       "      <td>2.95</td>\n",
       "      <td>80.0</td>\n",
       "      <td>8</td>\n",
       "      <td>E</td>\n",
       "      <td>32.77</td>\n",
       "    </tr>\n",
       "    <tr>\n",
       "      <th>4</th>\n",
       "      <td>Pokemon Red/Pokemon Blue</td>\n",
       "      <td>GB</td>\n",
       "      <td>1996</td>\n",
       "      <td>Role-Playing</td>\n",
       "      <td>11.27</td>\n",
       "      <td>8.89</td>\n",
       "      <td>10.22</td>\n",
       "      <td>1.00</td>\n",
       "      <td>NaN</td>\n",
       "      <td>NaN</td>\n",
       "      <td>NaN</td>\n",
       "      <td>31.38</td>\n",
       "    </tr>\n",
       "    <tr>\n",
       "      <th>...</th>\n",
       "      <td>...</td>\n",
       "      <td>...</td>\n",
       "      <td>...</td>\n",
       "      <td>...</td>\n",
       "      <td>...</td>\n",
       "      <td>...</td>\n",
       "      <td>...</td>\n",
       "      <td>...</td>\n",
       "      <td>...</td>\n",
       "      <td>...</td>\n",
       "      <td>...</td>\n",
       "      <td>...</td>\n",
       "    </tr>\n",
       "    <tr>\n",
       "      <th>16439</th>\n",
       "      <td>Samurai Warriors: Sanada Maru</td>\n",
       "      <td>PS3</td>\n",
       "      <td>2016</td>\n",
       "      <td>Action</td>\n",
       "      <td>0.00</td>\n",
       "      <td>0.00</td>\n",
       "      <td>0.01</td>\n",
       "      <td>0.00</td>\n",
       "      <td>NaN</td>\n",
       "      <td>NaN</td>\n",
       "      <td>NaN</td>\n",
       "      <td>0.01</td>\n",
       "    </tr>\n",
       "    <tr>\n",
       "      <th>16440</th>\n",
       "      <td>LMA Manager 2007</td>\n",
       "      <td>X360</td>\n",
       "      <td>2006</td>\n",
       "      <td>Sports</td>\n",
       "      <td>0.00</td>\n",
       "      <td>0.01</td>\n",
       "      <td>0.00</td>\n",
       "      <td>0.00</td>\n",
       "      <td>NaN</td>\n",
       "      <td>NaN</td>\n",
       "      <td>NaN</td>\n",
       "      <td>0.01</td>\n",
       "    </tr>\n",
       "    <tr>\n",
       "      <th>16441</th>\n",
       "      <td>Haitaka no Psychedelica</td>\n",
       "      <td>PSV</td>\n",
       "      <td>2016</td>\n",
       "      <td>Adventure</td>\n",
       "      <td>0.00</td>\n",
       "      <td>0.00</td>\n",
       "      <td>0.01</td>\n",
       "      <td>0.00</td>\n",
       "      <td>NaN</td>\n",
       "      <td>NaN</td>\n",
       "      <td>NaN</td>\n",
       "      <td>0.01</td>\n",
       "    </tr>\n",
       "    <tr>\n",
       "      <th>16442</th>\n",
       "      <td>Spirits &amp; Spells</td>\n",
       "      <td>GBA</td>\n",
       "      <td>2003</td>\n",
       "      <td>Platform</td>\n",
       "      <td>0.01</td>\n",
       "      <td>0.00</td>\n",
       "      <td>0.00</td>\n",
       "      <td>0.00</td>\n",
       "      <td>NaN</td>\n",
       "      <td>NaN</td>\n",
       "      <td>NaN</td>\n",
       "      <td>0.01</td>\n",
       "    </tr>\n",
       "    <tr>\n",
       "      <th>16443</th>\n",
       "      <td>Winning Post 8 2016</td>\n",
       "      <td>PSV</td>\n",
       "      <td>2016</td>\n",
       "      <td>Simulation</td>\n",
       "      <td>0.00</td>\n",
       "      <td>0.00</td>\n",
       "      <td>0.01</td>\n",
       "      <td>0.00</td>\n",
       "      <td>NaN</td>\n",
       "      <td>NaN</td>\n",
       "      <td>NaN</td>\n",
       "      <td>0.01</td>\n",
       "    </tr>\n",
       "  </tbody>\n",
       "</table>\n",
       "<p>16444 rows × 12 columns</p>\n",
       "</div>"
      ],
      "text/plain": [
       "                                name platform  year_of_release         genre  \\\n",
       "0                         Wii Sports      Wii             2006        Sports   \n",
       "1                  Super Mario Bros.      NES             1990      Platform   \n",
       "2                     Mario Kart Wii      Wii             2008        Racing   \n",
       "3                  Wii Sports Resort      Wii             2009        Sports   \n",
       "4           Pokemon Red/Pokemon Blue       GB             1996  Role-Playing   \n",
       "...                              ...      ...              ...           ...   \n",
       "16439  Samurai Warriors: Sanada Maru      PS3             2016        Action   \n",
       "16440               LMA Manager 2007     X360             2006        Sports   \n",
       "16441        Haitaka no Psychedelica      PSV             2016     Adventure   \n",
       "16442               Spirits & Spells      GBA             2003      Platform   \n",
       "16443            Winning Post 8 2016      PSV             2016    Simulation   \n",
       "\n",
       "       na_sales  eu_sales  jp_sales  other_sales  critic_score user_score  \\\n",
       "0         41.36     28.96      3.77         8.45          76.0          8   \n",
       "1         29.08      3.58      6.81         0.77           NaN        NaN   \n",
       "2         15.68     12.76      3.79         3.29          82.0        8.3   \n",
       "3         15.61     10.93      3.28         2.95          80.0          8   \n",
       "4         11.27      8.89     10.22         1.00           NaN        NaN   \n",
       "...         ...       ...       ...          ...           ...        ...   \n",
       "16439      0.00      0.00      0.01         0.00           NaN        NaN   \n",
       "16440      0.00      0.01      0.00         0.00           NaN        NaN   \n",
       "16441      0.00      0.00      0.01         0.00           NaN        NaN   \n",
       "16442      0.01      0.00      0.00         0.00           NaN        NaN   \n",
       "16443      0.00      0.00      0.01         0.00           NaN        NaN   \n",
       "\n",
       "      rating  total_sales  \n",
       "0          E        82.54  \n",
       "1        NaN        40.24  \n",
       "2          E        35.52  \n",
       "3          E        32.77  \n",
       "4        NaN        31.38  \n",
       "...      ...          ...  \n",
       "16439    NaN         0.01  \n",
       "16440    NaN         0.01  \n",
       "16441    NaN         0.01  \n",
       "16442    NaN         0.01  \n",
       "16443    NaN         0.01  \n",
       "\n",
       "[16444 rows x 12 columns]"
      ]
     },
     "execution_count": 60,
     "metadata": {},
     "output_type": "execute_result"
    }
   ],
   "source": [
    "# Назначение индекса 1990 для всех записей до 1991 года\n",
    "data['year_of_release'] = data['year_of_release'].apply(lambda x: x if x >= 1991 else 1990)\n",
    "data"
   ]
  },
  {
   "cell_type": "code",
   "execution_count": 61,
   "metadata": {
    "scrolled": true
   },
   "outputs": [
    {
     "data": {
      "text/plain": [
       "0.5796706281932216"
      ]
     },
     "execution_count": 61,
     "metadata": {},
     "output_type": "execute_result"
    }
   ],
   "source": [
    "# Проверка связи оценок критиков и пользователей\n",
    "data['critic_score'].corr(data[data['user_score'] != 'tbd']['user_score'].astype(float))"
   ]
  },
  {
   "cell_type": "markdown",
   "metadata": {},
   "source": [
    "* Связь данных параметров довольно слабая"
   ]
  },
  {
   "cell_type": "code",
   "execution_count": 62,
   "metadata": {
    "scrolled": false
   },
   "outputs": [
    {
     "data": {
      "text/plain": [
       "name                  0\n",
       "platform              0\n",
       "year_of_release       0\n",
       "genre                 0\n",
       "na_sales              0\n",
       "eu_sales              0\n",
       "jp_sales              0\n",
       "other_sales           0\n",
       "critic_score       8461\n",
       "user_score         6605\n",
       "rating             6676\n",
       "total_sales           0\n",
       "dtype: int64"
      ]
     },
     "execution_count": 62,
     "metadata": {},
     "output_type": "execute_result"
    }
   ],
   "source": [
    "# Проверка на пропуски\n",
    "data.isna().sum()\n",
    "# data.dtypes"
   ]
  },
  {
   "cell_type": "code",
   "execution_count": 63,
   "metadata": {},
   "outputs": [
    {
     "data": {
      "text/html": [
       "<div>\n",
       "<style scoped>\n",
       "    .dataframe tbody tr th:only-of-type {\n",
       "        vertical-align: middle;\n",
       "    }\n",
       "\n",
       "    .dataframe tbody tr th {\n",
       "        vertical-align: top;\n",
       "    }\n",
       "\n",
       "    .dataframe thead th {\n",
       "        text-align: right;\n",
       "    }\n",
       "</style>\n",
       "<table border=\"1\" class=\"dataframe\">\n",
       "  <thead>\n",
       "    <tr style=\"text-align: right;\">\n",
       "      <th></th>\n",
       "      <th>name</th>\n",
       "      <th>platform</th>\n",
       "      <th>year_of_release</th>\n",
       "      <th>genre</th>\n",
       "      <th>na_sales</th>\n",
       "      <th>eu_sales</th>\n",
       "      <th>jp_sales</th>\n",
       "      <th>other_sales</th>\n",
       "      <th>critic_score</th>\n",
       "      <th>user_score</th>\n",
       "      <th>rating</th>\n",
       "      <th>total_sales</th>\n",
       "    </tr>\n",
       "  </thead>\n",
       "  <tbody>\n",
       "  </tbody>\n",
       "</table>\n",
       "</div>"
      ],
      "text/plain": [
       "Empty DataFrame\n",
       "Columns: [name, platform, year_of_release, genre, na_sales, eu_sales, jp_sales, other_sales, critic_score, user_score, rating, total_sales]\n",
       "Index: []"
      ]
     },
     "execution_count": 63,
     "metadata": {},
     "output_type": "execute_result"
    }
   ],
   "source": [
    "# Замена строковых данных в оценках пользователей на пропуски\n",
    "data['user_score'] = data['user_score'].replace(to_replace='tbd', value=np.nan)\n",
    "data.loc[data['user_score'] == 'tbd']"
   ]
  },
  {
   "cell_type": "code",
   "execution_count": 64,
   "metadata": {},
   "outputs": [
    {
     "data": {
      "text/plain": [
       "name                  0\n",
       "platform              0\n",
       "year_of_release       0\n",
       "genre                 0\n",
       "na_sales              0\n",
       "eu_sales              0\n",
       "jp_sales              0\n",
       "other_sales           0\n",
       "critic_score       8461\n",
       "user_score         8981\n",
       "rating             6676\n",
       "total_sales           0\n",
       "dtype: int64"
      ]
     },
     "execution_count": 64,
     "metadata": {},
     "output_type": "execute_result"
    }
   ],
   "source": [
    "data.isna().sum()"
   ]
  },
  {
   "cell_type": "code",
   "execution_count": 65,
   "metadata": {},
   "outputs": [
    {
     "data": {
      "text/plain": [
       "critic_score    81\n",
       "user_score      95\n",
       "rating           8\n",
       "dtype: int64"
      ]
     },
     "metadata": {},
     "output_type": "display_data"
    }
   ],
   "source": [
    "# Подсчет количества уникальных данных в оценках и рейтингах\n",
    "display(data[['critic_score', 'user_score', 'rating']].nunique())\n",
    "data['user_score'] = data['user_score'].astype(float)\n",
    "#data['user_score'] = data['user_score'].fillna(data.groupby(data['genre'])['user_score'].transform('median'))\n",
    "#data['critic_score'] = data['critic_score'].fillna(data.groupby(data['genre'])['critic_score'].transform('median'))"
   ]
  },
  {
   "cell_type": "code",
   "execution_count": 66,
   "metadata": {},
   "outputs": [
    {
     "name": "stdout",
     "output_type": "stream",
     "text": [
      "<class 'pandas.core.frame.DataFrame'>\n",
      "RangeIndex: 16444 entries, 0 to 16443\n",
      "Data columns (total 12 columns):\n",
      " #   Column           Non-Null Count  Dtype  \n",
      "---  ------           --------------  -----  \n",
      " 0   name             16444 non-null  object \n",
      " 1   platform         16444 non-null  object \n",
      " 2   year_of_release  16444 non-null  int64  \n",
      " 3   genre            16444 non-null  object \n",
      " 4   na_sales         16444 non-null  float64\n",
      " 5   eu_sales         16444 non-null  float64\n",
      " 6   jp_sales         16444 non-null  float64\n",
      " 7   other_sales      16444 non-null  float64\n",
      " 8   critic_score     7983 non-null   float64\n",
      " 9   user_score       7463 non-null   float64\n",
      " 10  rating           9768 non-null   object \n",
      " 11  total_sales      16444 non-null  float64\n",
      "dtypes: float64(7), int64(1), object(4)\n",
      "memory usage: 1.5+ MB\n"
     ]
    }
   ],
   "source": [
    "data.info()"
   ]
  },
  {
   "cell_type": "code",
   "execution_count": 67,
   "metadata": {},
   "outputs": [
    {
     "data": {
      "text/plain": [
       "array(['AO', 'E', 'E10+', 'EC', 'K-A', 'M', 'RP', 'T'], dtype=object)"
      ]
     },
     "execution_count": 67,
     "metadata": {},
     "output_type": "execute_result"
    }
   ],
   "source": [
    "# Список всех возрастных рейтингов\n",
    "st = data['rating'].sort_values().dropna().unique()\n",
    "st"
   ]
  },
  {
   "cell_type": "code",
   "execution_count": 68,
   "metadata": {
    "scrolled": true
   },
   "outputs": [
    {
     "data": {
      "text/plain": [
       "{0: 'AO', 1: 'E', 2: 'E10+', 3: 'EC', 4: 'K-A', 5: 'M', 6: 'RP', 7: 'T'}"
      ]
     },
     "metadata": {},
     "output_type": "display_data"
    },
    {
     "data": {
      "text/plain": [
       "dict_keys([0, 1, 2, 3, 4, 5, 6, 7])"
      ]
     },
     "execution_count": 68,
     "metadata": {},
     "output_type": "execute_result"
    }
   ],
   "source": [
    "# Создание словаря с рейтингами\n",
    "dic = {}\n",
    "for i in range(len(st)):\n",
    "    dic[i] = list(st)[i]\n",
    "display(dic)\n",
    "dic.keys()"
   ]
  },
  {
   "cell_type": "code",
   "execution_count": 69,
   "metadata": {
    "scrolled": false
   },
   "outputs": [
    {
     "data": {
      "text/html": [
       "<div>\n",
       "<style scoped>\n",
       "    .dataframe tbody tr th:only-of-type {\n",
       "        vertical-align: middle;\n",
       "    }\n",
       "\n",
       "    .dataframe tbody tr th {\n",
       "        vertical-align: top;\n",
       "    }\n",
       "\n",
       "    .dataframe thead th {\n",
       "        text-align: right;\n",
       "    }\n",
       "</style>\n",
       "<table border=\"1\" class=\"dataframe\">\n",
       "  <thead>\n",
       "    <tr style=\"text-align: right;\">\n",
       "      <th></th>\n",
       "      <th>name</th>\n",
       "      <th>platform</th>\n",
       "      <th>year_of_release</th>\n",
       "      <th>genre</th>\n",
       "      <th>na_sales</th>\n",
       "      <th>eu_sales</th>\n",
       "      <th>jp_sales</th>\n",
       "      <th>other_sales</th>\n",
       "      <th>critic_score</th>\n",
       "      <th>user_score</th>\n",
       "      <th>rating</th>\n",
       "      <th>total_sales</th>\n",
       "    </tr>\n",
       "  </thead>\n",
       "  <tbody>\n",
       "    <tr>\n",
       "      <th>0</th>\n",
       "      <td>Wii Sports</td>\n",
       "      <td>Wii</td>\n",
       "      <td>2006</td>\n",
       "      <td>Sports</td>\n",
       "      <td>41.36</td>\n",
       "      <td>28.96</td>\n",
       "      <td>3.77</td>\n",
       "      <td>8.45</td>\n",
       "      <td>76.0</td>\n",
       "      <td>8.0</td>\n",
       "      <td>E</td>\n",
       "      <td>82.54</td>\n",
       "    </tr>\n",
       "    <tr>\n",
       "      <th>1</th>\n",
       "      <td>Super Mario Bros.</td>\n",
       "      <td>NES</td>\n",
       "      <td>1990</td>\n",
       "      <td>Platform</td>\n",
       "      <td>29.08</td>\n",
       "      <td>3.58</td>\n",
       "      <td>6.81</td>\n",
       "      <td>0.77</td>\n",
       "      <td>NaN</td>\n",
       "      <td>NaN</td>\n",
       "      <td>NaN</td>\n",
       "      <td>40.24</td>\n",
       "    </tr>\n",
       "    <tr>\n",
       "      <th>2</th>\n",
       "      <td>Mario Kart Wii</td>\n",
       "      <td>Wii</td>\n",
       "      <td>2008</td>\n",
       "      <td>Racing</td>\n",
       "      <td>15.68</td>\n",
       "      <td>12.76</td>\n",
       "      <td>3.79</td>\n",
       "      <td>3.29</td>\n",
       "      <td>82.0</td>\n",
       "      <td>8.3</td>\n",
       "      <td>E</td>\n",
       "      <td>35.52</td>\n",
       "    </tr>\n",
       "    <tr>\n",
       "      <th>3</th>\n",
       "      <td>Wii Sports Resort</td>\n",
       "      <td>Wii</td>\n",
       "      <td>2009</td>\n",
       "      <td>Sports</td>\n",
       "      <td>15.61</td>\n",
       "      <td>10.93</td>\n",
       "      <td>3.28</td>\n",
       "      <td>2.95</td>\n",
       "      <td>80.0</td>\n",
       "      <td>8.0</td>\n",
       "      <td>E</td>\n",
       "      <td>32.77</td>\n",
       "    </tr>\n",
       "    <tr>\n",
       "      <th>4</th>\n",
       "      <td>Pokemon Red/Pokemon Blue</td>\n",
       "      <td>GB</td>\n",
       "      <td>1996</td>\n",
       "      <td>Role-Playing</td>\n",
       "      <td>11.27</td>\n",
       "      <td>8.89</td>\n",
       "      <td>10.22</td>\n",
       "      <td>1.00</td>\n",
       "      <td>NaN</td>\n",
       "      <td>NaN</td>\n",
       "      <td>NaN</td>\n",
       "      <td>31.38</td>\n",
       "    </tr>\n",
       "    <tr>\n",
       "      <th>...</th>\n",
       "      <td>...</td>\n",
       "      <td>...</td>\n",
       "      <td>...</td>\n",
       "      <td>...</td>\n",
       "      <td>...</td>\n",
       "      <td>...</td>\n",
       "      <td>...</td>\n",
       "      <td>...</td>\n",
       "      <td>...</td>\n",
       "      <td>...</td>\n",
       "      <td>...</td>\n",
       "      <td>...</td>\n",
       "    </tr>\n",
       "    <tr>\n",
       "      <th>16439</th>\n",
       "      <td>Samurai Warriors: Sanada Maru</td>\n",
       "      <td>PS3</td>\n",
       "      <td>2016</td>\n",
       "      <td>Action</td>\n",
       "      <td>0.00</td>\n",
       "      <td>0.00</td>\n",
       "      <td>0.01</td>\n",
       "      <td>0.00</td>\n",
       "      <td>NaN</td>\n",
       "      <td>NaN</td>\n",
       "      <td>NaN</td>\n",
       "      <td>0.01</td>\n",
       "    </tr>\n",
       "    <tr>\n",
       "      <th>16440</th>\n",
       "      <td>LMA Manager 2007</td>\n",
       "      <td>X360</td>\n",
       "      <td>2006</td>\n",
       "      <td>Sports</td>\n",
       "      <td>0.00</td>\n",
       "      <td>0.01</td>\n",
       "      <td>0.00</td>\n",
       "      <td>0.00</td>\n",
       "      <td>NaN</td>\n",
       "      <td>NaN</td>\n",
       "      <td>NaN</td>\n",
       "      <td>0.01</td>\n",
       "    </tr>\n",
       "    <tr>\n",
       "      <th>16441</th>\n",
       "      <td>Haitaka no Psychedelica</td>\n",
       "      <td>PSV</td>\n",
       "      <td>2016</td>\n",
       "      <td>Adventure</td>\n",
       "      <td>0.00</td>\n",
       "      <td>0.00</td>\n",
       "      <td>0.01</td>\n",
       "      <td>0.00</td>\n",
       "      <td>NaN</td>\n",
       "      <td>NaN</td>\n",
       "      <td>NaN</td>\n",
       "      <td>0.01</td>\n",
       "    </tr>\n",
       "    <tr>\n",
       "      <th>16442</th>\n",
       "      <td>Spirits &amp; Spells</td>\n",
       "      <td>GBA</td>\n",
       "      <td>2003</td>\n",
       "      <td>Platform</td>\n",
       "      <td>0.01</td>\n",
       "      <td>0.00</td>\n",
       "      <td>0.00</td>\n",
       "      <td>0.00</td>\n",
       "      <td>NaN</td>\n",
       "      <td>NaN</td>\n",
       "      <td>NaN</td>\n",
       "      <td>0.01</td>\n",
       "    </tr>\n",
       "    <tr>\n",
       "      <th>16443</th>\n",
       "      <td>Winning Post 8 2016</td>\n",
       "      <td>PSV</td>\n",
       "      <td>2016</td>\n",
       "      <td>Simulation</td>\n",
       "      <td>0.00</td>\n",
       "      <td>0.00</td>\n",
       "      <td>0.01</td>\n",
       "      <td>0.00</td>\n",
       "      <td>NaN</td>\n",
       "      <td>NaN</td>\n",
       "      <td>NaN</td>\n",
       "      <td>0.01</td>\n",
       "    </tr>\n",
       "  </tbody>\n",
       "</table>\n",
       "<p>16444 rows × 12 columns</p>\n",
       "</div>"
      ],
      "text/plain": [
       "                                name platform  year_of_release         genre  \\\n",
       "0                         Wii Sports      Wii             2006        Sports   \n",
       "1                  Super Mario Bros.      NES             1990      Platform   \n",
       "2                     Mario Kart Wii      Wii             2008        Racing   \n",
       "3                  Wii Sports Resort      Wii             2009        Sports   \n",
       "4           Pokemon Red/Pokemon Blue       GB             1996  Role-Playing   \n",
       "...                              ...      ...              ...           ...   \n",
       "16439  Samurai Warriors: Sanada Maru      PS3             2016        Action   \n",
       "16440               LMA Manager 2007     X360             2006        Sports   \n",
       "16441        Haitaka no Psychedelica      PSV             2016     Adventure   \n",
       "16442               Spirits & Spells      GBA             2003      Platform   \n",
       "16443            Winning Post 8 2016      PSV             2016    Simulation   \n",
       "\n",
       "       na_sales  eu_sales  jp_sales  other_sales  critic_score  user_score  \\\n",
       "0         41.36     28.96      3.77         8.45          76.0         8.0   \n",
       "1         29.08      3.58      6.81         0.77           NaN         NaN   \n",
       "2         15.68     12.76      3.79         3.29          82.0         8.3   \n",
       "3         15.61     10.93      3.28         2.95          80.0         8.0   \n",
       "4         11.27      8.89     10.22         1.00           NaN         NaN   \n",
       "...         ...       ...       ...          ...           ...         ...   \n",
       "16439      0.00      0.00      0.01         0.00           NaN         NaN   \n",
       "16440      0.00      0.01      0.00         0.00           NaN         NaN   \n",
       "16441      0.00      0.00      0.01         0.00           NaN         NaN   \n",
       "16442      0.01      0.00      0.00         0.00           NaN         NaN   \n",
       "16443      0.00      0.00      0.01         0.00           NaN         NaN   \n",
       "\n",
       "      rating  total_sales  \n",
       "0          E        82.54  \n",
       "1        NaN        40.24  \n",
       "2          E        35.52  \n",
       "3          E        32.77  \n",
       "4        NaN        31.38  \n",
       "...      ...          ...  \n",
       "16439    NaN         0.01  \n",
       "16440    NaN         0.01  \n",
       "16441    NaN         0.01  \n",
       "16442    NaN         0.01  \n",
       "16443    NaN         0.01  \n",
       "\n",
       "[16444 rows x 12 columns]"
      ]
     },
     "metadata": {},
     "output_type": "display_data"
    },
    {
     "data": {
      "text/html": [
       "<div>\n",
       "<style scoped>\n",
       "    .dataframe tbody tr th:only-of-type {\n",
       "        vertical-align: middle;\n",
       "    }\n",
       "\n",
       "    .dataframe tbody tr th {\n",
       "        vertical-align: top;\n",
       "    }\n",
       "\n",
       "    .dataframe thead th {\n",
       "        text-align: right;\n",
       "    }\n",
       "</style>\n",
       "<table border=\"1\" class=\"dataframe\">\n",
       "  <thead>\n",
       "    <tr style=\"text-align: right;\">\n",
       "      <th></th>\n",
       "      <th>name</th>\n",
       "      <th>platform</th>\n",
       "      <th>year_of_release</th>\n",
       "      <th>genre</th>\n",
       "      <th>na_sales</th>\n",
       "      <th>eu_sales</th>\n",
       "      <th>jp_sales</th>\n",
       "      <th>other_sales</th>\n",
       "      <th>critic_score</th>\n",
       "      <th>user_score</th>\n",
       "      <th>rating</th>\n",
       "      <th>total_sales</th>\n",
       "    </tr>\n",
       "  </thead>\n",
       "  <tbody>\n",
       "    <tr>\n",
       "      <th>0</th>\n",
       "      <td>Wii Sports</td>\n",
       "      <td>Wii</td>\n",
       "      <td>2006</td>\n",
       "      <td>Sports</td>\n",
       "      <td>41.36</td>\n",
       "      <td>28.96</td>\n",
       "      <td>3.77</td>\n",
       "      <td>8.45</td>\n",
       "      <td>76.0</td>\n",
       "      <td>8.0</td>\n",
       "      <td>E</td>\n",
       "      <td>82.54</td>\n",
       "    </tr>\n",
       "    <tr>\n",
       "      <th>1</th>\n",
       "      <td>Super Mario Bros.</td>\n",
       "      <td>NES</td>\n",
       "      <td>1990</td>\n",
       "      <td>Platform</td>\n",
       "      <td>29.08</td>\n",
       "      <td>3.58</td>\n",
       "      <td>6.81</td>\n",
       "      <td>0.77</td>\n",
       "      <td>NaN</td>\n",
       "      <td>NaN</td>\n",
       "      <td>unknown</td>\n",
       "      <td>40.24</td>\n",
       "    </tr>\n",
       "    <tr>\n",
       "      <th>2</th>\n",
       "      <td>Mario Kart Wii</td>\n",
       "      <td>Wii</td>\n",
       "      <td>2008</td>\n",
       "      <td>Racing</td>\n",
       "      <td>15.68</td>\n",
       "      <td>12.76</td>\n",
       "      <td>3.79</td>\n",
       "      <td>3.29</td>\n",
       "      <td>82.0</td>\n",
       "      <td>8.3</td>\n",
       "      <td>E</td>\n",
       "      <td>35.52</td>\n",
       "    </tr>\n",
       "    <tr>\n",
       "      <th>3</th>\n",
       "      <td>Wii Sports Resort</td>\n",
       "      <td>Wii</td>\n",
       "      <td>2009</td>\n",
       "      <td>Sports</td>\n",
       "      <td>15.61</td>\n",
       "      <td>10.93</td>\n",
       "      <td>3.28</td>\n",
       "      <td>2.95</td>\n",
       "      <td>80.0</td>\n",
       "      <td>8.0</td>\n",
       "      <td>E</td>\n",
       "      <td>32.77</td>\n",
       "    </tr>\n",
       "    <tr>\n",
       "      <th>4</th>\n",
       "      <td>Pokemon Red/Pokemon Blue</td>\n",
       "      <td>GB</td>\n",
       "      <td>1996</td>\n",
       "      <td>Role-Playing</td>\n",
       "      <td>11.27</td>\n",
       "      <td>8.89</td>\n",
       "      <td>10.22</td>\n",
       "      <td>1.00</td>\n",
       "      <td>NaN</td>\n",
       "      <td>NaN</td>\n",
       "      <td>unknown</td>\n",
       "      <td>31.38</td>\n",
       "    </tr>\n",
       "    <tr>\n",
       "      <th>5</th>\n",
       "      <td>Tetris</td>\n",
       "      <td>GB</td>\n",
       "      <td>1990</td>\n",
       "      <td>Puzzle</td>\n",
       "      <td>23.20</td>\n",
       "      <td>2.26</td>\n",
       "      <td>4.22</td>\n",
       "      <td>0.58</td>\n",
       "      <td>NaN</td>\n",
       "      <td>NaN</td>\n",
       "      <td>unknown</td>\n",
       "      <td>30.26</td>\n",
       "    </tr>\n",
       "    <tr>\n",
       "      <th>6</th>\n",
       "      <td>New Super Mario Bros.</td>\n",
       "      <td>DS</td>\n",
       "      <td>2006</td>\n",
       "      <td>Platform</td>\n",
       "      <td>11.28</td>\n",
       "      <td>9.14</td>\n",
       "      <td>6.50</td>\n",
       "      <td>2.88</td>\n",
       "      <td>89.0</td>\n",
       "      <td>8.5</td>\n",
       "      <td>E</td>\n",
       "      <td>29.80</td>\n",
       "    </tr>\n",
       "    <tr>\n",
       "      <th>7</th>\n",
       "      <td>Wii Play</td>\n",
       "      <td>Wii</td>\n",
       "      <td>2006</td>\n",
       "      <td>Misc</td>\n",
       "      <td>13.96</td>\n",
       "      <td>9.18</td>\n",
       "      <td>2.93</td>\n",
       "      <td>2.84</td>\n",
       "      <td>58.0</td>\n",
       "      <td>6.6</td>\n",
       "      <td>E</td>\n",
       "      <td>28.91</td>\n",
       "    </tr>\n",
       "    <tr>\n",
       "      <th>8</th>\n",
       "      <td>New Super Mario Bros. Wii</td>\n",
       "      <td>Wii</td>\n",
       "      <td>2009</td>\n",
       "      <td>Platform</td>\n",
       "      <td>14.44</td>\n",
       "      <td>6.94</td>\n",
       "      <td>4.70</td>\n",
       "      <td>2.24</td>\n",
       "      <td>87.0</td>\n",
       "      <td>8.4</td>\n",
       "      <td>E</td>\n",
       "      <td>28.32</td>\n",
       "    </tr>\n",
       "    <tr>\n",
       "      <th>9</th>\n",
       "      <td>Duck Hunt</td>\n",
       "      <td>NES</td>\n",
       "      <td>1990</td>\n",
       "      <td>Shooter</td>\n",
       "      <td>26.93</td>\n",
       "      <td>0.63</td>\n",
       "      <td>0.28</td>\n",
       "      <td>0.47</td>\n",
       "      <td>NaN</td>\n",
       "      <td>NaN</td>\n",
       "      <td>unknown</td>\n",
       "      <td>28.31</td>\n",
       "    </tr>\n",
       "    <tr>\n",
       "      <th>10</th>\n",
       "      <td>Nintendogs</td>\n",
       "      <td>DS</td>\n",
       "      <td>2005</td>\n",
       "      <td>Simulation</td>\n",
       "      <td>9.05</td>\n",
       "      <td>10.95</td>\n",
       "      <td>1.93</td>\n",
       "      <td>2.74</td>\n",
       "      <td>NaN</td>\n",
       "      <td>NaN</td>\n",
       "      <td>unknown</td>\n",
       "      <td>24.67</td>\n",
       "    </tr>\n",
       "    <tr>\n",
       "      <th>11</th>\n",
       "      <td>Mario Kart DS</td>\n",
       "      <td>DS</td>\n",
       "      <td>2005</td>\n",
       "      <td>Racing</td>\n",
       "      <td>9.71</td>\n",
       "      <td>7.47</td>\n",
       "      <td>4.13</td>\n",
       "      <td>1.90</td>\n",
       "      <td>91.0</td>\n",
       "      <td>8.6</td>\n",
       "      <td>E</td>\n",
       "      <td>23.21</td>\n",
       "    </tr>\n",
       "    <tr>\n",
       "      <th>12</th>\n",
       "      <td>Pokemon Gold/Pokemon Silver</td>\n",
       "      <td>GB</td>\n",
       "      <td>1999</td>\n",
       "      <td>Role-Playing</td>\n",
       "      <td>9.00</td>\n",
       "      <td>6.18</td>\n",
       "      <td>7.20</td>\n",
       "      <td>0.71</td>\n",
       "      <td>NaN</td>\n",
       "      <td>NaN</td>\n",
       "      <td>unknown</td>\n",
       "      <td>23.09</td>\n",
       "    </tr>\n",
       "    <tr>\n",
       "      <th>13</th>\n",
       "      <td>Wii Fit</td>\n",
       "      <td>Wii</td>\n",
       "      <td>2007</td>\n",
       "      <td>Sports</td>\n",
       "      <td>8.92</td>\n",
       "      <td>8.03</td>\n",
       "      <td>3.60</td>\n",
       "      <td>2.15</td>\n",
       "      <td>80.0</td>\n",
       "      <td>7.7</td>\n",
       "      <td>E</td>\n",
       "      <td>22.70</td>\n",
       "    </tr>\n",
       "    <tr>\n",
       "      <th>14</th>\n",
       "      <td>Kinect Adventures!</td>\n",
       "      <td>X360</td>\n",
       "      <td>2010</td>\n",
       "      <td>Misc</td>\n",
       "      <td>15.00</td>\n",
       "      <td>4.89</td>\n",
       "      <td>0.24</td>\n",
       "      <td>1.69</td>\n",
       "      <td>61.0</td>\n",
       "      <td>6.3</td>\n",
       "      <td>E</td>\n",
       "      <td>21.82</td>\n",
       "    </tr>\n",
       "    <tr>\n",
       "      <th>15</th>\n",
       "      <td>Wii Fit Plus</td>\n",
       "      <td>Wii</td>\n",
       "      <td>2009</td>\n",
       "      <td>Sports</td>\n",
       "      <td>9.01</td>\n",
       "      <td>8.49</td>\n",
       "      <td>2.53</td>\n",
       "      <td>1.77</td>\n",
       "      <td>80.0</td>\n",
       "      <td>7.4</td>\n",
       "      <td>E</td>\n",
       "      <td>21.80</td>\n",
       "    </tr>\n",
       "    <tr>\n",
       "      <th>16</th>\n",
       "      <td>Grand Theft Auto V</td>\n",
       "      <td>PS3</td>\n",
       "      <td>2013</td>\n",
       "      <td>Action</td>\n",
       "      <td>7.02</td>\n",
       "      <td>9.09</td>\n",
       "      <td>0.98</td>\n",
       "      <td>3.96</td>\n",
       "      <td>97.0</td>\n",
       "      <td>8.2</td>\n",
       "      <td>M</td>\n",
       "      <td>21.05</td>\n",
       "    </tr>\n",
       "    <tr>\n",
       "      <th>17</th>\n",
       "      <td>Grand Theft Auto: San Andreas</td>\n",
       "      <td>PS2</td>\n",
       "      <td>2004</td>\n",
       "      <td>Action</td>\n",
       "      <td>9.43</td>\n",
       "      <td>0.40</td>\n",
       "      <td>0.41</td>\n",
       "      <td>10.57</td>\n",
       "      <td>95.0</td>\n",
       "      <td>9.0</td>\n",
       "      <td>M</td>\n",
       "      <td>20.81</td>\n",
       "    </tr>\n",
       "    <tr>\n",
       "      <th>18</th>\n",
       "      <td>Super Mario World</td>\n",
       "      <td>SNES</td>\n",
       "      <td>1990</td>\n",
       "      <td>Platform</td>\n",
       "      <td>12.78</td>\n",
       "      <td>3.75</td>\n",
       "      <td>3.54</td>\n",
       "      <td>0.55</td>\n",
       "      <td>NaN</td>\n",
       "      <td>NaN</td>\n",
       "      <td>unknown</td>\n",
       "      <td>20.62</td>\n",
       "    </tr>\n",
       "    <tr>\n",
       "      <th>19</th>\n",
       "      <td>Brain Age: Train Your Brain in Minutes a Day</td>\n",
       "      <td>DS</td>\n",
       "      <td>2005</td>\n",
       "      <td>Misc</td>\n",
       "      <td>4.74</td>\n",
       "      <td>9.20</td>\n",
       "      <td>4.16</td>\n",
       "      <td>2.04</td>\n",
       "      <td>77.0</td>\n",
       "      <td>7.9</td>\n",
       "      <td>E</td>\n",
       "      <td>20.14</td>\n",
       "    </tr>\n",
       "  </tbody>\n",
       "</table>\n",
       "</div>"
      ],
      "text/plain": [
       "                                            name platform  year_of_release  \\\n",
       "0                                     Wii Sports      Wii             2006   \n",
       "1                              Super Mario Bros.      NES             1990   \n",
       "2                                 Mario Kart Wii      Wii             2008   \n",
       "3                              Wii Sports Resort      Wii             2009   \n",
       "4                       Pokemon Red/Pokemon Blue       GB             1996   \n",
       "5                                         Tetris       GB             1990   \n",
       "6                          New Super Mario Bros.       DS             2006   \n",
       "7                                       Wii Play      Wii             2006   \n",
       "8                      New Super Mario Bros. Wii      Wii             2009   \n",
       "9                                      Duck Hunt      NES             1990   \n",
       "10                                    Nintendogs       DS             2005   \n",
       "11                                 Mario Kart DS       DS             2005   \n",
       "12                   Pokemon Gold/Pokemon Silver       GB             1999   \n",
       "13                                       Wii Fit      Wii             2007   \n",
       "14                            Kinect Adventures!     X360             2010   \n",
       "15                                  Wii Fit Plus      Wii             2009   \n",
       "16                            Grand Theft Auto V      PS3             2013   \n",
       "17                 Grand Theft Auto: San Andreas      PS2             2004   \n",
       "18                             Super Mario World     SNES             1990   \n",
       "19  Brain Age: Train Your Brain in Minutes a Day       DS             2005   \n",
       "\n",
       "           genre  na_sales  eu_sales  jp_sales  other_sales  critic_score  \\\n",
       "0         Sports     41.36     28.96      3.77         8.45          76.0   \n",
       "1       Platform     29.08      3.58      6.81         0.77           NaN   \n",
       "2         Racing     15.68     12.76      3.79         3.29          82.0   \n",
       "3         Sports     15.61     10.93      3.28         2.95          80.0   \n",
       "4   Role-Playing     11.27      8.89     10.22         1.00           NaN   \n",
       "5         Puzzle     23.20      2.26      4.22         0.58           NaN   \n",
       "6       Platform     11.28      9.14      6.50         2.88          89.0   \n",
       "7           Misc     13.96      9.18      2.93         2.84          58.0   \n",
       "8       Platform     14.44      6.94      4.70         2.24          87.0   \n",
       "9        Shooter     26.93      0.63      0.28         0.47           NaN   \n",
       "10    Simulation      9.05     10.95      1.93         2.74           NaN   \n",
       "11        Racing      9.71      7.47      4.13         1.90          91.0   \n",
       "12  Role-Playing      9.00      6.18      7.20         0.71           NaN   \n",
       "13        Sports      8.92      8.03      3.60         2.15          80.0   \n",
       "14          Misc     15.00      4.89      0.24         1.69          61.0   \n",
       "15        Sports      9.01      8.49      2.53         1.77          80.0   \n",
       "16        Action      7.02      9.09      0.98         3.96          97.0   \n",
       "17        Action      9.43      0.40      0.41        10.57          95.0   \n",
       "18      Platform     12.78      3.75      3.54         0.55           NaN   \n",
       "19          Misc      4.74      9.20      4.16         2.04          77.0   \n",
       "\n",
       "    user_score   rating  total_sales  \n",
       "0          8.0        E        82.54  \n",
       "1          NaN  unknown        40.24  \n",
       "2          8.3        E        35.52  \n",
       "3          8.0        E        32.77  \n",
       "4          NaN  unknown        31.38  \n",
       "5          NaN  unknown        30.26  \n",
       "6          8.5        E        29.80  \n",
       "7          6.6        E        28.91  \n",
       "8          8.4        E        28.32  \n",
       "9          NaN  unknown        28.31  \n",
       "10         NaN  unknown        24.67  \n",
       "11         8.6        E        23.21  \n",
       "12         NaN  unknown        23.09  \n",
       "13         7.7        E        22.70  \n",
       "14         6.3        E        21.82  \n",
       "15         7.4        E        21.80  \n",
       "16         8.2        M        21.05  \n",
       "17         9.0        M        20.81  \n",
       "18         NaN  unknown        20.62  \n",
       "19         7.9        E        20.14  "
      ]
     },
     "execution_count": 69,
     "metadata": {},
     "output_type": "execute_result"
    }
   ],
   "source": [
    "#\n",
    "display(data)\n",
    "data['rating'] = data['rating'].fillna(value='unknown')\n",
    "# data.query('rating in @dic.values()')\n",
    "# data.pivot_table(index=['genre'], columns='rating', values='total_sales', aggfunc='sum', dropna=False).corr()\n",
    "#data['rating_key'] = data['rating']\n",
    "# data.assign(rating_key=lambda x: x.rating)\n",
    "data.head(20)"
   ]
  },
  {
   "cell_type": "code",
   "execution_count": 70,
   "metadata": {},
   "outputs": [
    {
     "data": {
      "image/png": "[encoded data removed]",
      "text/plain": [
       "<Figure size 1152x360 with 1 Axes>"
      ]
     },
     "metadata": {
      "needs_background": "light"
     },
     "output_type": "display_data"
    }
   ],
   "source": [
    "# Продажи по годам\n",
    "(data.pivot_table(index=['year_of_release'], values='total_sales', aggfunc='sum', dropna=False)\n",
    " .plot(kind='bar', grid=True, figsize=(16,5), xlabel='Год выпуска', ylabel='Глобальные продажи, $m')\n",
    ")\n",
    "plt.show()"
   ]
  },
  {
   "cell_type": "code",
   "execution_count": 71,
   "metadata": {},
   "outputs": [
    {
     "data": {
      "image/png": "[encoded data removed]",
      "text/plain": [
       "<Figure size 432x288 with 1 Axes>"
      ]
     },
     "metadata": {
      "needs_background": "light"
     },
     "output_type": "display_data"
    },
    {
     "data": {
      "image/png": "[encoded data removed]",
      "text/plain": [
       "<Figure size 432x288 with 1 Axes>"
      ]
     },
     "metadata": {
      "needs_background": "light"
     },
     "output_type": "display_data"
    },
    {
     "data": {
      "image/png": "[encoded data removed]",
      "text/plain": [
       "<Figure size 432x288 with 1 Axes>"
      ]
     },
     "metadata": {
      "needs_background": "light"
     },
     "output_type": "display_data"
    }
   ],
   "source": [
    "# Просмотр продаж по регионам\n",
    "data.plot(kind='box', y=['na_sales'], grid=True, ylim=(0, .7))\n",
    "data.plot(kind='box', y=['eu_sales'], grid=True, ylim=(0, .3))\n",
    "data.plot(kind='box', y=['jp_sales', 'other_sales'], grid=True, ylim=(0, .15))\n",
    "plt.show()"
   ]
  },
  {
   "cell_type": "markdown",
   "metadata": {},
   "source": [
    "### Проведение исследовательского анализа данных\n",
    "- Количество игр, выпущенных в разные годы\n",
    "- Изменение продаж по платформам\n",
    "- Определение актуального периода, построение прогноза на 2017 год\n",
    "- Лидирущие платформы по продажам; Выбор потенциально прибыльных платформ\n",
    "- Влияние на продажи внутри одной популярной платформы отзывов пользователей и критиков. Построение диаграммы рассеяния и  корреляция между отзывами и продажами\n",
    "- Общее распределение игр по жанрам"
   ]
  },
  {
   "cell_type": "code",
   "execution_count": 72,
   "metadata": {
    "scrolled": false
   },
   "outputs": [
    {
     "data": {
      "image/png": "[encoded data removed]",
      "text/plain": [
       "<Figure size 1152x360 with 1 Axes>"
      ]
     },
     "metadata": {
      "needs_background": "light"
     },
     "output_type": "display_data"
    }
   ],
   "source": [
    "# Количество выпущенных игр по годам\n",
    "(data.pivot_table(index=['year_of_release'], values='name', aggfunc='count', dropna=False)\n",
    " .plot(kind='bar', grid=True, figsize=(16,5), xlabel='Год выпуска', ylabel='Количество названий игр')\n",
    ")\n",
    "plt.show()"
   ]
  },
  {
   "cell_type": "code",
   "execution_count": 73,
   "metadata": {},
   "outputs": [
    {
     "data": {
      "image/png": "[encoded data removed]",
      "text/plain": [
       "<Figure size 1152x360 with 1 Axes>"
      ]
     },
     "metadata": {
      "needs_background": "light"
     },
     "output_type": "display_data"
    },
    {
     "name": "stdout",
     "output_type": "stream",
     "text": [
      "PS2 X360 PS3 Wii DS PS PS4 GBA PSP 3DS PC GB XB NES N64 SNES GC XOne 2600 WiiU PSV SAT GEN DC SCD NG WS TG16 3DO GG PCFX\n"
     ]
    }
   ],
   "source": [
    "# Определение наиболее популярных игровых платформ\n",
    "top_platform = (data.pivot_table(index=['platform'], values='total_sales', aggfunc='sum', dropna=False)\n",
    " .sort_values(by='total_sales', ascending=False)\n",
    ")\n",
    "top_platform.head(20).plot(kind='bar', grid=True, figsize=(16,5), xlabel='Название платформы', ylabel='Глобальные продажи, $m')\n",
    "plt.show()\n",
    "print(*list(top_platform.index))"
   ]
  },
  {
   "cell_type": "code",
   "execution_count": 74,
   "metadata": {
    "scrolled": true
   },
   "outputs": [
    {
     "data": {
      "image/png": "[encoded data removed]",
      "text/plain": [
       "<Figure size 1152x360 with 1 Axes>"
      ]
     },
     "metadata": {
      "needs_background": "light"
     },
     "output_type": "display_data"
    }
   ],
   "source": [
    "# Расчет объемов продаж по платформам по годам\n",
    "# data.groupby('platform').agg({'total_sales':'sum'}).sort_values(by='total_sales', ascending=False)\n",
    "(data.query('platform.isin(@top_platform.head(11).index)').pivot_table(index=['year_of_release', 'platform'],\n",
    "                 values=['total_sales'],\n",
    "                 aggfunc={'total_sales':'sum'})\n",
    " .sort_values(by='total_sales', ascending=False).unstack()\n",
    " .plot(kind='line', grid=True, figsize=(16, 5), xlabel='Год выпуска', ylabel='Глобальные продажи, $m')\n",
    ")\n",
    "\n",
    "plt.show()"
   ]
  },
  {
   "cell_type": "markdown",
   "metadata": {},
   "source": [
    "* Как видно из диаграммы, обычный срок жизни платформы составляет порядка 10 лет\n",
    "* Исключение составляет платформа PC, хотя объемы продаж для нее относительно небольшие\n",
    "    - Это означает, что у большинства игр существует версия для PC параллельно с игровыми платформами\n",
    "* Хорошо прослеживается преемственность игр для платформ одного производителя (например: Sony)\n",
    "    - Количество выпускаемых игр для предыдущей версии снижается при выходе новой PS-PS2-PS3-.."
   ]
  },
  {
   "cell_type": "markdown",
   "metadata": {},
   "source": [
    "#### Определение актуального периода\n",
    "* Актуальный период должен быть не менее 10 лет, как среднего срока существования платформы\n",
    "* В то же время актуальный период должен быть приближен к прогнозному периоду\n",
    "* Появляются новые платформы, в то время, как некоторые становятся неактуальными\n",
    "* Некоторые платформы находятся в начале своего цикла развития и не имеют достаточного количества игр, и, соответственно, продаж\n",
    "\n",
    "##### Можно выбрать период с 2005 по 2015 (11 лет), когда некоторые платформы находились на пике, некоторые проходили полный жизненный цикл, а некоторые только зарождались"
   ]
  },
  {
   "cell_type": "code",
   "execution_count": 75,
   "metadata": {
    "scrolled": false
   },
   "outputs": [
    {
     "data": {
      "text/html": [
       "<div>\n",
       "<style scoped>\n",
       "    .dataframe tbody tr th:only-of-type {\n",
       "        vertical-align: middle;\n",
       "    }\n",
       "\n",
       "    .dataframe tbody tr th {\n",
       "        vertical-align: top;\n",
       "    }\n",
       "\n",
       "    .dataframe thead th {\n",
       "        text-align: right;\n",
       "    }\n",
       "</style>\n",
       "<table border=\"1\" class=\"dataframe\">\n",
       "  <thead>\n",
       "    <tr style=\"text-align: right;\">\n",
       "      <th></th>\n",
       "      <th>name</th>\n",
       "      <th>platform</th>\n",
       "      <th>year_of_release</th>\n",
       "      <th>genre</th>\n",
       "      <th>na_sales</th>\n",
       "      <th>eu_sales</th>\n",
       "      <th>jp_sales</th>\n",
       "      <th>other_sales</th>\n",
       "      <th>critic_score</th>\n",
       "      <th>user_score</th>\n",
       "      <th>rating</th>\n",
       "      <th>total_sales</th>\n",
       "    </tr>\n",
       "  </thead>\n",
       "  <tbody>\n",
       "    <tr>\n",
       "      <th>0</th>\n",
       "      <td>Grand Theft Auto V</td>\n",
       "      <td>PS3</td>\n",
       "      <td>2013</td>\n",
       "      <td>Action</td>\n",
       "      <td>7.02</td>\n",
       "      <td>9.09</td>\n",
       "      <td>0.98</td>\n",
       "      <td>3.96</td>\n",
       "      <td>97.0</td>\n",
       "      <td>8.2</td>\n",
       "      <td>M</td>\n",
       "      <td>21.05</td>\n",
       "    </tr>\n",
       "    <tr>\n",
       "      <th>1</th>\n",
       "      <td>Grand Theft Auto V</td>\n",
       "      <td>X360</td>\n",
       "      <td>2013</td>\n",
       "      <td>Action</td>\n",
       "      <td>9.66</td>\n",
       "      <td>5.14</td>\n",
       "      <td>0.06</td>\n",
       "      <td>1.41</td>\n",
       "      <td>97.0</td>\n",
       "      <td>8.1</td>\n",
       "      <td>M</td>\n",
       "      <td>16.27</td>\n",
       "    </tr>\n",
       "    <tr>\n",
       "      <th>2</th>\n",
       "      <td>Call of Duty: Black Ops 3</td>\n",
       "      <td>PS4</td>\n",
       "      <td>2015</td>\n",
       "      <td>Shooter</td>\n",
       "      <td>6.03</td>\n",
       "      <td>5.86</td>\n",
       "      <td>0.36</td>\n",
       "      <td>2.38</td>\n",
       "      <td>NaN</td>\n",
       "      <td>NaN</td>\n",
       "      <td>unknown</td>\n",
       "      <td>14.63</td>\n",
       "    </tr>\n",
       "    <tr>\n",
       "      <th>3</th>\n",
       "      <td>Pokemon X/Pokemon Y</td>\n",
       "      <td>3DS</td>\n",
       "      <td>2013</td>\n",
       "      <td>Role-Playing</td>\n",
       "      <td>5.28</td>\n",
       "      <td>4.19</td>\n",
       "      <td>4.35</td>\n",
       "      <td>0.78</td>\n",
       "      <td>NaN</td>\n",
       "      <td>NaN</td>\n",
       "      <td>unknown</td>\n",
       "      <td>14.60</td>\n",
       "    </tr>\n",
       "    <tr>\n",
       "      <th>4</th>\n",
       "      <td>Call of Duty: Black Ops II</td>\n",
       "      <td>PS3</td>\n",
       "      <td>2012</td>\n",
       "      <td>Shooter</td>\n",
       "      <td>4.99</td>\n",
       "      <td>5.73</td>\n",
       "      <td>0.65</td>\n",
       "      <td>2.42</td>\n",
       "      <td>83.0</td>\n",
       "      <td>5.3</td>\n",
       "      <td>M</td>\n",
       "      <td>13.79</td>\n",
       "    </tr>\n",
       "    <tr>\n",
       "      <th>...</th>\n",
       "      <td>...</td>\n",
       "      <td>...</td>\n",
       "      <td>...</td>\n",
       "      <td>...</td>\n",
       "      <td>...</td>\n",
       "      <td>...</td>\n",
       "      <td>...</td>\n",
       "      <td>...</td>\n",
       "      <td>...</td>\n",
       "      <td>...</td>\n",
       "      <td>...</td>\n",
       "      <td>...</td>\n",
       "    </tr>\n",
       "    <tr>\n",
       "      <th>2379</th>\n",
       "      <td>Tsukigime Ranko's Longest Day</td>\n",
       "      <td>PS3</td>\n",
       "      <td>2014</td>\n",
       "      <td>Action</td>\n",
       "      <td>0.00</td>\n",
       "      <td>0.01</td>\n",
       "      <td>0.00</td>\n",
       "      <td>0.00</td>\n",
       "      <td>NaN</td>\n",
       "      <td>NaN</td>\n",
       "      <td>unknown</td>\n",
       "      <td>0.01</td>\n",
       "    </tr>\n",
       "    <tr>\n",
       "      <th>2380</th>\n",
       "      <td>End of Nations</td>\n",
       "      <td>PC</td>\n",
       "      <td>2012</td>\n",
       "      <td>Strategy</td>\n",
       "      <td>0.01</td>\n",
       "      <td>0.00</td>\n",
       "      <td>0.00</td>\n",
       "      <td>0.00</td>\n",
       "      <td>NaN</td>\n",
       "      <td>NaN</td>\n",
       "      <td>T</td>\n",
       "      <td>0.01</td>\n",
       "    </tr>\n",
       "    <tr>\n",
       "      <th>2381</th>\n",
       "      <td>Grisaia no Kajitsu: La Fruit de la Grisaia</td>\n",
       "      <td>PSP</td>\n",
       "      <td>2013</td>\n",
       "      <td>Adventure</td>\n",
       "      <td>0.00</td>\n",
       "      <td>0.00</td>\n",
       "      <td>0.01</td>\n",
       "      <td>0.00</td>\n",
       "      <td>NaN</td>\n",
       "      <td>NaN</td>\n",
       "      <td>unknown</td>\n",
       "      <td>0.01</td>\n",
       "    </tr>\n",
       "    <tr>\n",
       "      <th>2382</th>\n",
       "      <td>Metal Gear Solid V: Ground Zeroes</td>\n",
       "      <td>PC</td>\n",
       "      <td>2014</td>\n",
       "      <td>Action</td>\n",
       "      <td>0.00</td>\n",
       "      <td>0.01</td>\n",
       "      <td>0.00</td>\n",
       "      <td>0.00</td>\n",
       "      <td>80.0</td>\n",
       "      <td>7.6</td>\n",
       "      <td>M</td>\n",
       "      <td>0.01</td>\n",
       "    </tr>\n",
       "    <tr>\n",
       "      <th>2383</th>\n",
       "      <td>Aiyoku no Eustia</td>\n",
       "      <td>PSV</td>\n",
       "      <td>2014</td>\n",
       "      <td>Misc</td>\n",
       "      <td>0.00</td>\n",
       "      <td>0.00</td>\n",
       "      <td>0.01</td>\n",
       "      <td>0.00</td>\n",
       "      <td>NaN</td>\n",
       "      <td>NaN</td>\n",
       "      <td>unknown</td>\n",
       "      <td>0.01</td>\n",
       "    </tr>\n",
       "  </tbody>\n",
       "</table>\n",
       "<p>2384 rows × 12 columns</p>\n",
       "</div>"
      ],
      "text/plain": [
       "                                            name platform  year_of_release  \\\n",
       "0                             Grand Theft Auto V      PS3             2013   \n",
       "1                             Grand Theft Auto V     X360             2013   \n",
       "2                      Call of Duty: Black Ops 3      PS4             2015   \n",
       "3                            Pokemon X/Pokemon Y      3DS             2013   \n",
       "4                     Call of Duty: Black Ops II      PS3             2012   \n",
       "...                                          ...      ...              ...   \n",
       "2379               Tsukigime Ranko's Longest Day      PS3             2014   \n",
       "2380                              End of Nations       PC             2012   \n",
       "2381  Grisaia no Kajitsu: La Fruit de la Grisaia      PSP             2013   \n",
       "2382           Metal Gear Solid V: Ground Zeroes       PC             2014   \n",
       "2383                            Aiyoku no Eustia      PSV             2014   \n",
       "\n",
       "             genre  na_sales  eu_sales  jp_sales  other_sales  critic_score  \\\n",
       "0           Action      7.02      9.09      0.98         3.96          97.0   \n",
       "1           Action      9.66      5.14      0.06         1.41          97.0   \n",
       "2          Shooter      6.03      5.86      0.36         2.38           NaN   \n",
       "3     Role-Playing      5.28      4.19      4.35         0.78           NaN   \n",
       "4          Shooter      4.99      5.73      0.65         2.42          83.0   \n",
       "...            ...       ...       ...       ...          ...           ...   \n",
       "2379        Action      0.00      0.01      0.00         0.00           NaN   \n",
       "2380      Strategy      0.01      0.00      0.00         0.00           NaN   \n",
       "2381     Adventure      0.00      0.00      0.01         0.00           NaN   \n",
       "2382        Action      0.00      0.01      0.00         0.00          80.0   \n",
       "2383          Misc      0.00      0.00      0.01         0.00           NaN   \n",
       "\n",
       "      user_score   rating  total_sales  \n",
       "0            8.2        M        21.05  \n",
       "1            8.1        M        16.27  \n",
       "2            NaN  unknown        14.63  \n",
       "3            NaN  unknown        14.60  \n",
       "4            5.3        M        13.79  \n",
       "...          ...      ...          ...  \n",
       "2379         NaN  unknown         0.01  \n",
       "2380         NaN        T         0.01  \n",
       "2381         NaN  unknown         0.01  \n",
       "2382         7.6        M         0.01  \n",
       "2383         NaN  unknown         0.01  \n",
       "\n",
       "[2384 rows x 12 columns]"
      ]
     },
     "execution_count": 75,
     "metadata": {},
     "output_type": "execute_result"
    }
   ],
   "source": [
    "# Создание таблицы с данными за актуальный период\n",
    "data_actual = data.query('year_of_release >= 2012 & year_of_release <= 2015').reset_index(drop=True)\n",
    "data_actual\n",
    "#data_actual.total_sales.sum() / data.total_sales.sum()\n",
    "#data_actual.total_sales.count() / data.total_sales.count()"
   ]
  },
  {
   "cell_type": "code",
   "execution_count": 76,
   "metadata": {
    "scrolled": false
   },
   "outputs": [
    {
     "data": {
      "image/png": "[encoded data removed]",
      "text/plain": [
       "<Figure size 720x504 with 1 Axes>"
      ]
     },
     "metadata": {
      "needs_background": "light"
     },
     "output_type": "display_data"
    }
   ],
   "source": [
    "# Визуализация продаж по годам выпуска для разных игровых платформ\n",
    "(data_actual.pivot_table(index=['year_of_release', 'platform'],\n",
    "                 values=['total_sales'], aggfunc={'total_sales':'sum'})\n",
    " .sort_values(by='total_sales', ascending=False).unstack()\n",
    " .plot(kind='line', grid=True, figsize=(10, 7), xlabel='Год выпуска', ylabel='Глобальные продажи, $m', xlim=(2012,2016))\n",
    ")\n",
    "\n",
    "plt.show()"
   ]
  },
  {
   "cell_type": "markdown",
   "metadata": {},
   "source": [
    "* Как видно из графика две платформы показывают динамичный рост (PS4 & XOne), большинство прочих находятся на спаде\n",
    "* Некоторые новые платформы показывают стабильные продажи, однако их объем невелик\n",
    "    - возможно это связано с небольшим количеством игр выпущенных для них, или с ограниченным применением, или с недостаточным продвижением на рынке"
   ]
  },
  {
   "cell_type": "code",
   "execution_count": 77,
   "metadata": {
    "scrolled": true
   },
   "outputs": [
    {
     "data": {
      "image/png": "[encoded data removed]",
      "text/plain": [
       "<Figure size 1152x360 with 1 Axes>"
      ]
     },
     "metadata": {
      "needs_background": "light"
     },
     "output_type": "display_data"
    }
   ],
   "source": [
    "# Построение диаграммы размаха для разных платформ\n",
    "(data_actual.pivot_table(index='year_of_release', columns='platform',\n",
    "                 values='total_sales', aggfunc='sum')\n",
    " .plot(kind='box', grid=True, figsize=(16, 5), title='Диаграмма размаха глобальных продаж по платформам за актуальный период',\n",
    "       xlabel='Игровые платформы', ylabel='Глобальные продажи, $m')\n",
    ")\n",
    "plt.show()"
   ]
  },
  {
   "cell_type": "markdown",
   "metadata": {},
   "source": [
    "* Как видно из диаграммы размах продаж по разным платформам сильно различается\n",
    "* Это зависит от популярности тех или иных платформ, а также от периода жизненного цикла"
   ]
  },
  {
   "cell_type": "code",
   "execution_count": 78,
   "metadata": {
    "scrolled": false
   },
   "outputs": [
    {
     "data": {
      "image/png": "[encoded data removed]",
      "text/plain": [
       "<Figure size 1152x288 with 1 Axes>"
      ]
     },
     "metadata": {
      "needs_background": "light"
     },
     "output_type": "display_data"
    },
    {
     "data": {
      "image/png": "[encoded data removed]",
      "text/plain": [
       "<Figure size 1152x288 with 1 Axes>"
      ]
     },
     "metadata": {
      "needs_background": "light"
     },
     "output_type": "display_data"
    }
   ],
   "source": [
    "# Диаграммы рассеяния продаж в зависимости от ценок критиков и пользователей для платформы X360\n",
    "data_actual.query('platform == \"PS4\"')\\\n",
    ".plot(kind='scatter', title='Диаграмма рассеяния', xlabel='Отзывы критиков', ylabel='Глобальные продажи',\\\n",
    "      y='total_sales', x='critic_score', grid=True, ylim=(0,7), figsize=(16,4))\n",
    "data_actual.query('platform == \"PS4\"')\\\n",
    ".plot(kind='scatter', title='Диаграмма рассеяния', xlabel='Отзывы пользователей', ylabel='Глобальные продажи',\\\n",
    "      y='total_sales', x='user_score', grid=True, ylim=(0,7), figsize=(16,4))\n",
    "plt.show()"
   ]
  },
  {
   "cell_type": "code",
   "execution_count": 79,
   "metadata": {},
   "outputs": [
    {
     "data": {
      "text/plain": [
       "0.4318482049982005"
      ]
     },
     "execution_count": 79,
     "metadata": {},
     "output_type": "execute_result"
    }
   ],
   "source": [
    "# Зависимость продаж от оценок критиков по платформе X360\n",
    "data_actual.query('platform == \"PS4\"')['total_sales'].corr(data_actual.critic_score)"
   ]
  },
  {
   "cell_type": "markdown",
   "metadata": {},
   "source": [
    "* Корреляция довольно низкая"
   ]
  },
  {
   "cell_type": "code",
   "execution_count": 80,
   "metadata": {},
   "outputs": [
    {
     "data": {
      "text/plain": [
       "0.024230832360622585"
      ]
     },
     "execution_count": 80,
     "metadata": {},
     "output_type": "execute_result"
    }
   ],
   "source": [
    "# Зависимость продаж от оценок пользователей по платформе X360\n",
    "data_actual.query('platform == \"PS4\"')['total_sales'].corr(data_actual.user_score)"
   ]
  },
  {
   "cell_type": "markdown",
   "metadata": {},
   "source": [
    "* Зависимость практически не наблюдается"
   ]
  },
  {
   "cell_type": "code",
   "execution_count": 81,
   "metadata": {
    "scrolled": true
   },
   "outputs": [
    {
     "data": {
      "text/html": [
       "<div>\n",
       "<style scoped>\n",
       "    .dataframe tbody tr th:only-of-type {\n",
       "        vertical-align: middle;\n",
       "    }\n",
       "\n",
       "    .dataframe tbody tr th {\n",
       "        vertical-align: top;\n",
       "    }\n",
       "\n",
       "    .dataframe thead th {\n",
       "        text-align: right;\n",
       "    }\n",
       "</style>\n",
       "<table border=\"1\" class=\"dataframe\">\n",
       "  <thead>\n",
       "    <tr style=\"text-align: right;\">\n",
       "      <th></th>\n",
       "      <th>year_of_release</th>\n",
       "      <th>na_sales</th>\n",
       "      <th>eu_sales</th>\n",
       "      <th>jp_sales</th>\n",
       "      <th>other_sales</th>\n",
       "      <th>critic_score</th>\n",
       "      <th>user_score</th>\n",
       "      <th>total_sales</th>\n",
       "    </tr>\n",
       "  </thead>\n",
       "  <tbody>\n",
       "    <tr>\n",
       "      <th>year_of_release</th>\n",
       "      <td>1.000000</td>\n",
       "      <td>-0.041197</td>\n",
       "      <td>-0.011280</td>\n",
       "      <td>-0.038079</td>\n",
       "      <td>-0.013575</td>\n",
       "      <td>-0.012500</td>\n",
       "      <td>-0.028668</td>\n",
       "      <td>-0.032530</td>\n",
       "    </tr>\n",
       "    <tr>\n",
       "      <th>na_sales</th>\n",
       "      <td>-0.041197</td>\n",
       "      <td>1.000000</td>\n",
       "      <td>0.780881</td>\n",
       "      <td>0.260919</td>\n",
       "      <td>0.792312</td>\n",
       "      <td>0.301284</td>\n",
       "      <td>-0.011712</td>\n",
       "      <td>0.923709</td>\n",
       "    </tr>\n",
       "    <tr>\n",
       "      <th>eu_sales</th>\n",
       "      <td>-0.011280</td>\n",
       "      <td>0.780881</td>\n",
       "      <td>1.000000</td>\n",
       "      <td>0.269277</td>\n",
       "      <td>0.939759</td>\n",
       "      <td>0.296071</td>\n",
       "      <td>-0.017359</td>\n",
       "      <td>0.931647</td>\n",
       "    </tr>\n",
       "    <tr>\n",
       "      <th>jp_sales</th>\n",
       "      <td>-0.038079</td>\n",
       "      <td>0.260919</td>\n",
       "      <td>0.269277</td>\n",
       "      <td>1.000000</td>\n",
       "      <td>0.198733</td>\n",
       "      <td>0.123301</td>\n",
       "      <td>0.175385</td>\n",
       "      <td>0.446862</td>\n",
       "    </tr>\n",
       "    <tr>\n",
       "      <th>other_sales</th>\n",
       "      <td>-0.013575</td>\n",
       "      <td>0.792312</td>\n",
       "      <td>0.939759</td>\n",
       "      <td>0.198733</td>\n",
       "      <td>1.000000</td>\n",
       "      <td>0.280680</td>\n",
       "      <td>-0.006688</td>\n",
       "      <td>0.907164</td>\n",
       "    </tr>\n",
       "    <tr>\n",
       "      <th>critic_score</th>\n",
       "      <td>-0.012500</td>\n",
       "      <td>0.301284</td>\n",
       "      <td>0.296071</td>\n",
       "      <td>0.123301</td>\n",
       "      <td>0.280680</td>\n",
       "      <td>1.000000</td>\n",
       "      <td>0.534083</td>\n",
       "      <td>0.320037</td>\n",
       "    </tr>\n",
       "    <tr>\n",
       "      <th>user_score</th>\n",
       "      <td>-0.028668</td>\n",
       "      <td>-0.011712</td>\n",
       "      <td>-0.017359</td>\n",
       "      <td>0.175385</td>\n",
       "      <td>-0.006688</td>\n",
       "      <td>0.534083</td>\n",
       "      <td>1.000000</td>\n",
       "      <td>0.010422</td>\n",
       "    </tr>\n",
       "    <tr>\n",
       "      <th>total_sales</th>\n",
       "      <td>-0.032530</td>\n",
       "      <td>0.923709</td>\n",
       "      <td>0.931647</td>\n",
       "      <td>0.446862</td>\n",
       "      <td>0.907164</td>\n",
       "      <td>0.320037</td>\n",
       "      <td>0.010422</td>\n",
       "      <td>1.000000</td>\n",
       "    </tr>\n",
       "  </tbody>\n",
       "</table>\n",
       "</div>"
      ],
      "text/plain": [
       "                 year_of_release  na_sales  eu_sales  jp_sales  other_sales  \\\n",
       "year_of_release         1.000000 -0.041197 -0.011280 -0.038079    -0.013575   \n",
       "na_sales               -0.041197  1.000000  0.780881  0.260919     0.792312   \n",
       "eu_sales               -0.011280  0.780881  1.000000  0.269277     0.939759   \n",
       "jp_sales               -0.038079  0.260919  0.269277  1.000000     0.198733   \n",
       "other_sales            -0.013575  0.792312  0.939759  0.198733     1.000000   \n",
       "critic_score           -0.012500  0.301284  0.296071  0.123301     0.280680   \n",
       "user_score             -0.028668 -0.011712 -0.017359  0.175385    -0.006688   \n",
       "total_sales            -0.032530  0.923709  0.931647  0.446862     0.907164   \n",
       "\n",
       "                 critic_score  user_score  total_sales  \n",
       "year_of_release     -0.012500   -0.028668    -0.032530  \n",
       "na_sales             0.301284   -0.011712     0.923709  \n",
       "eu_sales             0.296071   -0.017359     0.931647  \n",
       "jp_sales             0.123301    0.175385     0.446862  \n",
       "other_sales          0.280680   -0.006688     0.907164  \n",
       "critic_score         1.000000    0.534083     0.320037  \n",
       "user_score           0.534083    1.000000     0.010422  \n",
       "total_sales          0.320037    0.010422     1.000000  "
      ]
     },
     "execution_count": 81,
     "metadata": {},
     "output_type": "execute_result"
    }
   ],
   "source": [
    "# Общая взаимозависимость параметров \n",
    "data_actual.corr()"
   ]
  },
  {
   "cell_type": "markdown",
   "metadata": {},
   "source": [
    "* Картина повторяется для всех остальных платформ\n",
    "* Корреляция продаж с оценками еще ниже, нежели для популярных платформ 0.2365 и 0.0805 соответственно\n",
    "* По всем платформамм оценки распределяются неравномерно, поэтому для менее популярных зависимость очевидно еще ниже"
   ]
  },
  {
   "cell_type": "code",
   "execution_count": 82,
   "metadata": {
    "scrolled": false
   },
   "outputs": [
    {
     "data": {
      "image/png": "[encoded data removed]",
      "text/plain": [
       "<Figure size 1080x288 with 2 Axes>"
      ]
     },
     "metadata": {
      "needs_background": "light"
     },
     "output_type": "display_data"
    }
   ],
   "source": [
    "# Распределение продаж игр по жанрам \n",
    "data_actual.pivot_table(index='genre', values=['total_sales', 'name'], \\\n",
    "                 aggfunc={'total_sales':'sum','name':'count'})\\\n",
    ".sort_values(by='total_sales', ascending=False)\\\n",
    ".plot(kind='bar', secondary_y='name', title='Распределение игр по жанрам',\\\n",
    "      xlabel='Название жанра', ylabel='Глобальные продажи',\\\n",
    "      grid=True, figsize=(15,4), sort_columns=False)\n",
    "plt.show()"
   ]
  },
  {
   "cell_type": "markdown",
   "metadata": {},
   "source": [
    "* Распределение игр по жанрам показывает наиболее продаваемые игры\n",
    "* По всем параметрам (количеству и продажам) лидируют игры жанра Action, Sports, Shooter, RPG\n",
    "* Однако можно встретить аномалии - при меньшем количестве продаваемых игр (например Platform) они приносят значительно больше дохода по сравнению с играми Adventure\n",
    "* Для оценки удельного дохода на каждую игру возможно имеет смысл посчитать отношение дохода к количеству выпущенных игр, однако это может быть некорректно из-за разных годов выпуска\n",
    "* Наименее доходными являются Стратегии и Приключения, несмотря на довольно большое количество выпущенных игр"
   ]
  },
  {
   "cell_type": "markdown",
   "metadata": {},
   "source": [
    "### Портрет пользователя каждого региона\n",
    "- Определение портрета пользователя для каждого региона (NA, EU, JP):\n",
    "- Определение популярных платформ (топ-5) по регионам\n",
    "- Определение популярных жанров (топ-5) по регионам\n",
    "- Влияние рейтинга ESRB на продажи в отдельном регионе"
   ]
  },
  {
   "cell_type": "code",
   "execution_count": 83,
   "metadata": {
    "scrolled": false
   },
   "outputs": [
    {
     "data": {
      "image/png": "[encoded data removed]",
      "text/plain": [
       "<Figure size 1080x288 with 2 Axes>"
      ]
     },
     "metadata": {
      "needs_background": "light"
     },
     "output_type": "display_data"
    },
    {
     "data": {
      "image/png": "[encoded data removed]",
      "text/plain": [
       "<Figure size 1080x288 with 2 Axes>"
      ]
     },
     "metadata": {
      "needs_background": "light"
     },
     "output_type": "display_data"
    },
    {
     "data": {
      "image/png": "[encoded data removed]",
      "text/plain": [
       "<Figure size 1080x288 with 2 Axes>"
      ]
     },
     "metadata": {
      "needs_background": "light"
     },
     "output_type": "display_data"
    }
   ],
   "source": [
    "# Выбор данных по регионам продаж\n",
    "reg_sales = data_actual.pivot_table(index=['platform', 'genre'], values=('na_sales', 'eu_sales', 'jp_sales'),\\\n",
    "                 aggfunc='sum')\n",
    "# Диаграмма объемов продаж для 5 крупнейших платформ по регионам\n",
    "for i in reg_sales.columns:\n",
    "    data_actual.pivot_table(index='platform', values=(i, 'name'),\\\n",
    "                            aggfunc={i:'sum','name':'count'})\\\n",
    "    .sort_values(by=i, ascending=False).head()\\\n",
    "    .plot(kind='bar', secondary_y='name', title='Распределение игр по платформам',\\\n",
    "          xlabel='Название платформы', ylabel='Продажи',\\\n",
    "          grid=True, figsize=(15,4))\n",
    "plt.show()"
   ]
  },
  {
   "cell_type": "code",
   "execution_count": 84,
   "metadata": {
    "scrolled": false
   },
   "outputs": [
    {
     "data": {
      "image/png": "[encoded data removed]",
      "text/plain": [
       "<Figure size 360x360 with 1 Axes>"
      ]
     },
     "metadata": {},
     "output_type": "display_data"
    },
    {
     "data": {
      "image/png": "[encoded data removed]",
      "text/plain": [
       "<Figure size 360x360 with 1 Axes>"
      ]
     },
     "metadata": {},
     "output_type": "display_data"
    },
    {
     "data": {
      "image/png": "[encoded data removed]",
      "text/plain": [
       "<Figure size 360x360 with 1 Axes>"
      ]
     },
     "metadata": {},
     "output_type": "display_data"
    }
   ],
   "source": [
    "# Соотношение долей продаж для пяти курпнейших платформ по регионам\n",
    "for i in reg_sales.columns:\n",
    "    data_actual.pivot_table(index=['platform'], values=(i, 'name'),\\\n",
    "                            aggfunc={i:'sum','name':'count'})\\\n",
    "    .sort_values(by=i, ascending=False).head()\\\n",
    "    .plot(kind='pie', y=i, title=i, ylabel='Продажи', figsize=(5,5), autopct='%1.1f%%')\n",
    "    plt.show()"
   ]
  },
  {
   "cell_type": "markdown",
   "metadata": {},
   "source": [
    "* Пользователи отдают предпочтения разным платформам в зависимости от региона\n",
    "    - например, в Северной Америке на первых местах продукты для X360 и Wii\n",
    "    - в Японии лидируют платформы DS, 3DS, затем разные версии PS\n",
    "    - европейские же пользователи наслаждаются платформами от X360, PS3, Wii\n",
    "* Платформа DS/3DS пользуется значительно меньшей популярностью среди игроков в Европе и Америке"
   ]
  },
  {
   "cell_type": "code",
   "execution_count": 85,
   "metadata": {
    "scrolled": false
   },
   "outputs": [
    {
     "data": {
      "image/png": "[encoded data removed]",
      "text/plain": [
       "<Figure size 1080x288 with 2 Axes>"
      ]
     },
     "metadata": {
      "needs_background": "light"
     },
     "output_type": "display_data"
    },
    {
     "data": {
      "image/png": "[encoded data removed]",
      "text/plain": [
       "<Figure size 1080x288 with 2 Axes>"
      ]
     },
     "metadata": {
      "needs_background": "light"
     },
     "output_type": "display_data"
    },
    {
     "data": {
      "image/png": "[encoded data removed]",
      "text/plain": [
       "<Figure size 1080x288 with 2 Axes>"
      ]
     },
     "metadata": {
      "needs_background": "light"
     },
     "output_type": "display_data"
    }
   ],
   "source": [
    "# Определение пяти популярных жанров по регионам\n",
    "for i in reg_sales.columns:\n",
    "    data_actual.pivot_table(index='genre', values=(i, 'name'),\\\n",
    "                            aggfunc={i:'sum','name':'count'})\\\n",
    "    .sort_values(by=i, ascending=False).head()\\\n",
    "    .plot(kind='bar', secondary_y='name', title='Распределение игр по жанрам',\\\n",
    "          xlabel='Название жанра', ylabel='Продажи',\\\n",
    "          grid=True, figsize=(15,4))\n",
    "plt.show()"
   ]
  },
  {
   "cell_type": "code",
   "execution_count": 86,
   "metadata": {
    "scrolled": false
   },
   "outputs": [
    {
     "data": {
      "image/png": "[encoded data removed]",
      "text/plain": [
       "<Figure size 360x360 with 1 Axes>"
      ]
     },
     "metadata": {},
     "output_type": "display_data"
    },
    {
     "data": {
      "image/png": "[encoded data removed]",
      "text/plain": [
       "<Figure size 360x360 with 1 Axes>"
      ]
     },
     "metadata": {},
     "output_type": "display_data"
    },
    {
     "data": {
      "image/png": "[encoded data removed]",
      "text/plain": [
       "<Figure size 360x360 with 1 Axes>"
      ]
     },
     "metadata": {},
     "output_type": "display_data"
    }
   ],
   "source": [
    "# Соотношение доли продаж пяти популярных жанров по регионам\n",
    "plt.layout=(3,1)\n",
    "for i in reg_sales.columns:\n",
    "    data_actual.pivot_table(index='genre', values=(i, 'name'),\\\n",
    "                            aggfunc={i:'sum','name':'count'})\\\n",
    "    .sort_values(by=i, ascending=False).head()\\\n",
    "    .plot(kind='pie', y=i, title=i, ylabel='Продажи', figsize=(5,5), autopct='%1.1f%%')\n",
    "plt.show()"
   ]
  },
  {
   "cell_type": "markdown",
   "metadata": {},
   "source": [
    "* Анализ пользовательских предпочтений показывает, что жанровые предпочтения во многом сходятся в Северной Америке и Европе (Action, Sports, Shooter), однако сильно отличаются у пользователей в Японии (RPG, Action, Misc)\n",
    "* Это может говорить о большой разнице в менталитете пользователей\n",
    "* Также это может свидетельствовать об адаптации предпочтительных жанров для тех или иных платформ"
   ]
  },
  {
   "cell_type": "code",
   "execution_count": 87,
   "metadata": {},
   "outputs": [
    {
     "data": {
      "image/png": "[encoded data removed]",
      "text/plain": [
       "<Figure size 1008x504 with 1 Axes>"
      ]
     },
     "metadata": {
      "needs_background": "light"
     },
     "output_type": "display_data"
    }
   ],
   "source": [
    "# Оценка влияния возрастного рейтинга на продажи\n",
    "rate = data_actual.query('rating.notna()')\n",
    "rate.pivot_table(index='rating', values=['na_sales', 'eu_sales', 'jp_sales', 'other_sales'], aggfunc=['sum'])\\\n",
    ".plot(kind='line', xlabel='ESRB рейтинг', ylabel='Глобальные продажи', grid=True, figsize=(14,7))\n",
    "plt.show()"
   ]
  },
  {
   "cell_type": "markdown",
   "metadata": {},
   "source": [
    "* По всем регионам форма кривой практически повторяется\n",
    "* Это означает, собственно рейтинг не влияет на объемы продаж игр"
   ]
  },
  {
   "cell_type": "markdown",
   "metadata": {},
   "source": [
    "### Проверка гипотезы\n",
    "\n",
    "- Средние пользовательские рейтинги платформ Xbox One и PC одинаковые;\n",
    "- Средние пользовательские рейтинги жанров Action и Sports разные\n"
   ]
  },
  {
   "cell_type": "markdown",
   "metadata": {},
   "source": [
    "#### Формулируем гипотезу\n",
    "* H_0: Средние пользовательские рейтинги платформ Xbox One и PC одинаковые\n",
    "* H_1: Средние пользовательские рейтинги платформ Xbox One и PC отличаются"
   ]
  },
  {
   "cell_type": "code",
   "execution_count": 88,
   "metadata": {
    "scrolled": true
   },
   "outputs": [
    {
     "name": "stdout",
     "output_type": "stream",
     "text": [
      "0.9441751855931831\n",
      "Не получилось отвергнуть нулевую гипотезу\n"
     ]
    }
   ],
   "source": [
    "# вызов метода для проверки гипотезы\n",
    "xone = data_actual.query('platform == \"XOne\" & user_score.notna()')['user_score']\n",
    "pc = data_actual.query('platform == \"PC\" & user_score.notna()')['user_score']\n",
    "# print(xone.mean())\n",
    "# print(pc.mean())\n",
    "results = stats.ttest_ind(xone, pc, equal_var=False)\n",
    "\n",
    "alpha = .05 # задайте значение уровня значимости\n",
    "\n",
    "# вывод значения p-value на экран \n",
    "print(results.pvalue)\n",
    "# условный оператор с выводом строки с ответом\n",
    "if results.pvalue < alpha:\n",
    "    print('Отвергаем нулевую гипотезу')\n",
    "else:\n",
    "    print('Не получилось отвергнуть нулевую гипотезу')"
   ]
  },
  {
   "cell_type": "markdown",
   "metadata": {},
   "source": [
    "#### Вывод\n",
    "* Выбран метод сравнения независимых выборок\n",
    "* Уровень значимости выбран равным 5%\n",
    "* Нулевая гипотеза отвергнута, поскольку вероятность равенства пользовательских оценок для этих платформ менее уровня значимости"
   ]
  },
  {
   "cell_type": "markdown",
   "metadata": {},
   "source": [
    "#### Формулируем гипотезу\n",
    "* H_0: Средние пользовательские рейтинги жанров Action и Sports одинаковые\n",
    "* H_1: Средние пользовательские рейтинги жанров Action и Sports разные"
   ]
  },
  {
   "cell_type": "code",
   "execution_count": 89,
   "metadata": {},
   "outputs": [
    {
     "name": "stdout",
     "output_type": "stream",
     "text": [
      "2.7671307856639633e-18\n",
      "Отвергаем нулевую гипотезу\n"
     ]
    }
   ],
   "source": [
    "# вызов метода для проверки гипотезы\n",
    "action = data_actual.query('genre == \"Action\" & user_score.notna()')['user_score']\n",
    "sports = data_actual.query('genre == \"Sports\" & user_score.notna()')['user_score']\n",
    "\n",
    "# print(action.mean())\n",
    "# print(sports.mean())\n",
    "\n",
    "results = stats.ttest_ind(action, sports, equal_var=False)\n",
    "\n",
    "alpha = .05 # задайте значение уровня значимости\n",
    "\n",
    "# вывод значения p-value на экран \n",
    "print(results.pvalue)\n",
    "# условный оператор с выводом строки с ответом\n",
    "if results.pvalue < alpha:\n",
    "    print('Отвергаем нулевую гипотезу')\n",
    "else:\n",
    "    print('Не получилось отвергнуть нулевую гипотезу')"
   ]
  },
  {
   "cell_type": "markdown",
   "metadata": {},
   "source": [
    "#### Вывод\n",
    "* Нулевая гипотеза сформулирована, как равенство пользовательских оценок для разных жанров\n",
    "* Соответственно, альтернативня гипотеза говорит о том, что пользовательские оценки выбранных жанров не равны\n",
    "* Выбран метод сравнения независимых выборок\n",
    "* Уровень значимости выбран равным 5%\n",
    "* Нулевая гипотеза отвергнута, поскольку вероятность равенства пользовательских оценок для этих жанров менее уровня значимости"
   ]
  },
  {
   "cell_type": "markdown",
   "metadata": {},
   "source": [
    "#### Общий вывод\n",
    "##### Подготовка данных\n",
    "* Проведен анализ данных о продажах различных игр по регионам\n",
    "* Проанализированы данные по платформам и жанрам\n",
    "* Удалены лишние данные с отсутствующими названиями игр и пропущенными годами выпуска\n",
    "* Пропуски в оценках критиков и пользователей заполнены медианными значениями по жанру\n",
    "##### Исследование\n",
    "* Количество выпускаемых игр заметно росло до 2010 года, затем снизилось и стабилизировалось\n",
    "* Продажи по годам выпуска также росли пропорционально количеству игр, затем снизились\n",
    "* В 2016 году зафиксированные продажи значительно ниже, чем в предыдущие, что может говорить о неполноте представленных данных\n",
    "* Определено, что средний срок жизни игровой платформы равен 10 годам\n",
    "* В качестве актуального периода выбран 11 летний период, чтобы покрыть средний цикл жизни игровых платформ\n",
    "* Выявлено, что оценки пользователей и критиков практически не влияют на продажи внутри одной популярной платформы, аналогичная картина наблюдается для всех платформ\n",
    "* Определены наиболее популярные игровые жанры по объемам продаж\n",
    "##### Различия по макрорегионам\n",
    "* Структура продаж по регионам отличается друг от друга\n",
    "* Отличия заметны как по жанрам, так и по игровым платформам\n",
    "* Данные показывают распространенность тех или иных платформ по регионам, а также пользовательские предпочтения\n",
    "* Возрастные рейтинги никак не влияют на продажи игр по регионам\n",
    "##### Сравнение статистических гипотез\n",
    "1. Предположении о равестве средних оценок пользователей на платформах XOne и PC не подтвердилось\n",
    "2. Средние оценки пользователей популярных жанров (Action и Sports) также отличаются"
   ]
  },
  {
   "cell_type": "markdown",
   "metadata": {},
   "source": [
    "### Прогноз\n",
    "* Для прогнозирования продаж на будущий период следует:\n",
    "    - Обратить внимание на популярные жанры, характерные для региона\n",
    "    - Учесть новые платформы, находящиеся на пике или в фазе роста продаж\n",
    "    - Постепенно отказываться от игровых платформ, продажи которых идут на спад"
   ]
  }
 ],
 "metadata": {
  "ExecuteTimeLog": [
   {
    "duration": 1182,
    "start_time": "2022-10-14T09:15:49.738Z"
   },
   {
    "duration": 138,
    "start_time": "2022-10-14T09:15:53.017Z"
   },
   {
    "duration": 247,
    "start_time": "2022-10-14T09:16:34.594Z"
   },
   {
    "duration": 14,
    "start_time": "2022-10-14T09:16:38.974Z"
   },
   {
    "duration": 22,
    "start_time": "2022-10-14T09:16:40.592Z"
   },
   {
    "duration": 9,
    "start_time": "2022-10-14T09:16:43.228Z"
   },
   {
    "duration": 16,
    "start_time": "2022-10-14T09:16:44.512Z"
   },
   {
    "duration": 15,
    "start_time": "2022-10-14T09:16:45.878Z"
   },
   {
    "duration": 14,
    "start_time": "2022-10-14T09:17:30.611Z"
   },
   {
    "duration": 12,
    "start_time": "2022-10-14T09:17:44.900Z"
   },
   {
    "duration": 19,
    "start_time": "2022-10-14T09:19:20.858Z"
   },
   {
    "duration": 21,
    "start_time": "2022-10-14T09:19:28.334Z"
   },
   {
    "duration": 745,
    "start_time": "2022-10-14T09:19:29.912Z"
   },
   {
    "duration": 111,
    "start_time": "2022-10-14T09:19:35.188Z"
   },
   {
    "duration": 16,
    "start_time": "2022-10-14T09:19:38.995Z"
   },
   {
    "duration": 24,
    "start_time": "2022-10-14T09:19:48.432Z"
   },
   {
    "duration": 23,
    "start_time": "2022-10-14T09:19:55.560Z"
   },
   {
    "duration": 21,
    "start_time": "2022-10-14T09:19:56.071Z"
   },
   {
    "duration": 394,
    "start_time": "2022-10-14T09:20:00.982Z"
   },
   {
    "duration": 12,
    "start_time": "2022-10-14T09:20:04.929Z"
   },
   {
    "duration": 7,
    "start_time": "2022-10-14T09:20:14.781Z"
   },
   {
    "duration": 26,
    "start_time": "2022-10-14T09:21:20.861Z"
   },
   {
    "duration": 10,
    "start_time": "2022-10-14T09:21:33.436Z"
   },
   {
    "duration": 8,
    "start_time": "2022-10-14T09:21:37.979Z"
   },
   {
    "duration": 10,
    "start_time": "2022-10-14T09:21:46.124Z"
   },
   {
    "duration": 8,
    "start_time": "2022-10-14T09:21:48.659Z"
   },
   {
    "duration": 11,
    "start_time": "2022-10-14T09:21:50.124Z"
   },
   {
    "duration": 17,
    "start_time": "2022-10-14T09:22:19.743Z"
   },
   {
    "duration": 16,
    "start_time": "2022-10-14T09:22:27.143Z"
   },
   {
    "duration": 15,
    "start_time": "2022-10-14T09:23:01.410Z"
   },
   {
    "duration": 14,
    "start_time": "2022-10-14T09:23:05.002Z"
   },
   {
    "duration": 10,
    "start_time": "2022-10-14T09:23:09.063Z"
   },
   {
    "duration": 5,
    "start_time": "2022-10-14T09:23:10.082Z"
   },
   {
    "duration": 26,
    "start_time": "2022-10-14T09:23:13.147Z"
   },
   {
    "duration": 333,
    "start_time": "2022-10-14T09:23:17.005Z"
   },
   {
    "duration": 197,
    "start_time": "2022-10-14T09:23:27.492Z"
   },
   {
    "duration": 233,
    "start_time": "2022-10-14T09:25:17.202Z"
   },
   {
    "duration": 315,
    "start_time": "2022-10-14T09:25:28.873Z"
   },
   {
    "duration": 274,
    "start_time": "2022-10-14T09:25:39.519Z"
   },
   {
    "duration": 219,
    "start_time": "2022-10-14T09:25:42.697Z"
   },
   {
    "duration": 308,
    "start_time": "2022-10-14T09:25:45.303Z"
   },
   {
    "duration": 22,
    "start_time": "2022-10-14T09:25:50.610Z"
   },
   {
    "duration": 400,
    "start_time": "2022-10-14T09:25:56.933Z"
   },
   {
    "duration": 295,
    "start_time": "2022-10-14T09:26:02.000Z"
   },
   {
    "duration": 427,
    "start_time": "2022-10-14T09:26:07.084Z"
   },
   {
    "duration": 9,
    "start_time": "2022-10-14T09:26:09.180Z"
   },
   {
    "duration": 8,
    "start_time": "2022-10-14T09:26:12.215Z"
   },
   {
    "duration": 14,
    "start_time": "2022-10-14T09:26:17.356Z"
   },
   {
    "duration": 278,
    "start_time": "2022-10-14T09:26:23.809Z"
   },
   {
    "duration": 699,
    "start_time": "2022-10-14T09:26:28.933Z"
   },
   {
    "duration": 511,
    "start_time": "2022-10-14T09:26:31.060Z"
   },
   {
    "duration": 732,
    "start_time": "2022-10-14T09:26:35.034Z"
   },
   {
    "duration": 525,
    "start_time": "2022-10-14T09:26:45.402Z"
   },
   {
    "duration": 179,
    "start_time": "2022-10-14T09:26:51.021Z"
   },
   {
    "duration": 14,
    "start_time": "2022-10-14T09:26:56.378Z"
   },
   {
    "duration": 13,
    "start_time": "2022-10-14T09:27:01.040Z"
   },
   {
    "duration": 1079,
    "start_time": "2022-10-14T09:39:06.335Z"
   },
   {
    "duration": 76,
    "start_time": "2022-10-14T09:39:07.416Z"
   },
   {
    "duration": 13,
    "start_time": "2022-10-14T09:39:07.494Z"
   },
   {
    "duration": 21,
    "start_time": "2022-10-14T09:39:07.508Z"
   },
   {
    "duration": 7,
    "start_time": "2022-10-14T09:39:07.531Z"
   },
   {
    "duration": 20,
    "start_time": "2022-10-14T09:39:07.540Z"
   },
   {
    "duration": 36,
    "start_time": "2022-10-14T09:39:07.562Z"
   },
   {
    "duration": 627,
    "start_time": "2022-10-14T09:39:07.600Z"
   },
   {
    "duration": 123,
    "start_time": "2022-10-14T09:39:08.229Z"
   },
   {
    "duration": 32,
    "start_time": "2022-10-14T09:39:08.354Z"
   },
   {
    "duration": 22,
    "start_time": "2022-10-14T09:39:08.387Z"
   },
   {
    "duration": 380,
    "start_time": "2022-10-14T09:39:08.410Z"
   },
   {
    "duration": 13,
    "start_time": "2022-10-14T09:39:08.791Z"
   },
   {
    "duration": 6,
    "start_time": "2022-10-14T09:39:08.806Z"
   },
   {
    "duration": 25,
    "start_time": "2022-10-14T09:39:08.813Z"
   },
   {
    "duration": 11,
    "start_time": "2022-10-14T09:39:08.839Z"
   },
   {
    "duration": 33,
    "start_time": "2022-10-14T09:39:08.852Z"
   },
   {
    "duration": 10,
    "start_time": "2022-10-14T09:39:08.886Z"
   },
   {
    "duration": 16,
    "start_time": "2022-10-14T09:39:08.898Z"
   },
   {
    "duration": 17,
    "start_time": "2022-10-14T09:39:08.916Z"
   },
   {
    "duration": 13,
    "start_time": "2022-10-14T09:39:08.934Z"
   },
   {
    "duration": 10,
    "start_time": "2022-10-14T09:39:08.948Z"
   },
   {
    "duration": 28,
    "start_time": "2022-10-14T09:39:08.959Z"
   },
   {
    "duration": 24,
    "start_time": "2022-10-14T09:39:08.988Z"
   },
   {
    "duration": 298,
    "start_time": "2022-10-14T09:39:09.013Z"
   },
   {
    "duration": 346,
    "start_time": "2022-10-14T09:39:09.312Z"
   },
   {
    "duration": 272,
    "start_time": "2022-10-14T09:39:09.660Z"
   },
   {
    "duration": 233,
    "start_time": "2022-10-14T09:39:09.935Z"
   },
   {
    "duration": 285,
    "start_time": "2022-10-14T09:39:10.169Z"
   },
   {
    "duration": 23,
    "start_time": "2022-10-14T09:39:10.456Z"
   },
   {
    "duration": 297,
    "start_time": "2022-10-14T09:39:10.480Z"
   },
   {
    "duration": 282,
    "start_time": "2022-10-14T09:39:10.778Z"
   },
   {
    "duration": 336,
    "start_time": "2022-10-14T09:39:11.062Z"
   },
   {
    "duration": 8,
    "start_time": "2022-10-14T09:39:11.399Z"
   },
   {
    "duration": 8,
    "start_time": "2022-10-14T09:39:11.408Z"
   },
   {
    "duration": 12,
    "start_time": "2022-10-14T09:39:11.418Z"
   },
   {
    "duration": 371,
    "start_time": "2022-10-14T09:39:11.432Z"
   },
   {
    "duration": 694,
    "start_time": "2022-10-14T09:39:11.805Z"
   },
   {
    "duration": 495,
    "start_time": "2022-10-14T09:39:12.501Z"
   },
   {
    "duration": 657,
    "start_time": "2022-10-14T09:39:12.998Z"
   },
   {
    "duration": 596,
    "start_time": "2022-10-14T09:39:13.657Z"
   },
   {
    "duration": 198,
    "start_time": "2022-10-14T09:39:14.254Z"
   },
   {
    "duration": 12,
    "start_time": "2022-10-14T09:39:14.453Z"
   },
   {
    "duration": 25,
    "start_time": "2022-10-14T09:39:14.466Z"
   },
   {
    "duration": 1175,
    "start_time": "2022-10-14T10:00:56.148Z"
   },
   {
    "duration": 77,
    "start_time": "2022-10-14T10:00:57.325Z"
   },
   {
    "duration": 14,
    "start_time": "2022-10-14T10:00:57.403Z"
   },
   {
    "duration": 22,
    "start_time": "2022-10-14T10:00:57.419Z"
   },
   {
    "duration": 10,
    "start_time": "2022-10-14T10:00:57.442Z"
   },
   {
    "duration": 42,
    "start_time": "2022-10-14T10:00:57.454Z"
   },
   {
    "duration": 18,
    "start_time": "2022-10-14T10:00:57.498Z"
   },
   {
    "duration": 641,
    "start_time": "2022-10-14T10:00:57.517Z"
   },
   {
    "duration": 114,
    "start_time": "2022-10-14T10:00:58.160Z"
   },
   {
    "duration": 28,
    "start_time": "2022-10-14T10:00:58.277Z"
   },
   {
    "duration": 22,
    "start_time": "2022-10-14T10:00:58.307Z"
   },
   {
    "duration": 410,
    "start_time": "2022-10-14T10:00:58.330Z"
   },
   {
    "duration": 15,
    "start_time": "2022-10-14T10:00:58.741Z"
   },
   {
    "duration": 6,
    "start_time": "2022-10-14T10:00:58.757Z"
   },
   {
    "duration": 40,
    "start_time": "2022-10-14T10:00:58.765Z"
   },
   {
    "duration": 9,
    "start_time": "2022-10-14T10:00:58.807Z"
   },
   {
    "duration": 7,
    "start_time": "2022-10-14T10:00:58.817Z"
   },
   {
    "duration": 14,
    "start_time": "2022-10-14T10:00:58.826Z"
   },
   {
    "duration": 40,
    "start_time": "2022-10-14T10:00:58.842Z"
   },
   {
    "duration": 11,
    "start_time": "2022-10-14T10:00:58.884Z"
   },
   {
    "duration": 13,
    "start_time": "2022-10-14T10:00:58.896Z"
   },
   {
    "duration": 12,
    "start_time": "2022-10-14T10:00:58.911Z"
   },
   {
    "duration": 6,
    "start_time": "2022-10-14T10:00:58.925Z"
   },
   {
    "duration": 63,
    "start_time": "2022-10-14T10:00:58.933Z"
   },
   {
    "duration": 299,
    "start_time": "2022-10-14T10:00:58.997Z"
   },
   {
    "duration": 364,
    "start_time": "2022-10-14T10:00:59.297Z"
   },
   {
    "duration": 295,
    "start_time": "2022-10-14T10:00:59.663Z"
   },
   {
    "duration": 237,
    "start_time": "2022-10-14T10:00:59.961Z"
   },
   {
    "duration": 312,
    "start_time": "2022-10-14T10:01:00.199Z"
   },
   {
    "duration": 26,
    "start_time": "2022-10-14T10:01:00.512Z"
   },
   {
    "duration": 318,
    "start_time": "2022-10-14T10:01:00.540Z"
   },
   {
    "duration": 291,
    "start_time": "2022-10-14T10:01:00.860Z"
   },
   {
    "duration": 347,
    "start_time": "2022-10-14T10:01:01.153Z"
   },
   {
    "duration": 8,
    "start_time": "2022-10-14T10:01:01.501Z"
   },
   {
    "duration": 25,
    "start_time": "2022-10-14T10:01:01.511Z"
   },
   {
    "duration": 28,
    "start_time": "2022-10-14T10:01:01.537Z"
   },
   {
    "duration": 370,
    "start_time": "2022-10-14T10:01:01.566Z"
   },
   {
    "duration": 721,
    "start_time": "2022-10-14T10:01:01.938Z"
   },
   {
    "duration": 496,
    "start_time": "2022-10-14T10:01:02.660Z"
   },
   {
    "duration": 690,
    "start_time": "2022-10-14T10:01:03.157Z"
   },
   {
    "duration": 616,
    "start_time": "2022-10-14T10:01:03.848Z"
   },
   {
    "duration": 240,
    "start_time": "2022-10-14T10:01:04.466Z"
   },
   {
    "duration": 17,
    "start_time": "2022-10-14T10:01:04.708Z"
   },
   {
    "duration": 14,
    "start_time": "2022-10-14T10:01:04.727Z"
   },
   {
    "duration": 1153,
    "start_time": "2022-10-14T11:05:25.376Z"
   },
   {
    "duration": 87,
    "start_time": "2022-10-14T11:05:28.548Z"
   },
   {
    "duration": 26,
    "start_time": "2022-10-14T11:05:39.995Z"
   },
   {
    "duration": 20,
    "start_time": "2022-10-14T11:05:49.424Z"
   },
   {
    "duration": 12,
    "start_time": "2022-10-14T11:05:50.302Z"
   },
   {
    "duration": 29,
    "start_time": "2022-10-14T11:05:52.484Z"
   },
   {
    "duration": 18,
    "start_time": "2022-10-14T11:06:26.125Z"
   },
   {
    "duration": 741,
    "start_time": "2022-10-14T11:06:29.555Z"
   },
   {
    "duration": 109,
    "start_time": "2022-10-14T11:06:36.153Z"
   },
   {
    "duration": 27,
    "start_time": "2022-10-14T11:07:12.999Z"
   },
   {
    "duration": 26,
    "start_time": "2022-10-14T11:07:17.700Z"
   },
   {
    "duration": 443,
    "start_time": "2022-10-14T11:07:36.119Z"
   },
   {
    "duration": 13,
    "start_time": "2022-10-14T11:07:47.745Z"
   },
   {
    "duration": 6,
    "start_time": "2022-10-14T11:07:52.365Z"
   },
   {
    "duration": 6,
    "start_time": "2022-10-14T11:09:40.219Z"
   },
   {
    "duration": 38,
    "start_time": "2022-10-14T11:09:41.381Z"
   },
   {
    "duration": 10,
    "start_time": "2022-10-14T11:09:58.067Z"
   },
   {
    "duration": 10,
    "start_time": "2022-10-14T11:10:39.374Z"
   },
   {
    "duration": 14,
    "start_time": "2022-10-14T11:10:41.403Z"
   },
   {
    "duration": 13,
    "start_time": "2022-10-14T11:10:45.482Z"
   },
   {
    "duration": 11,
    "start_time": "2022-10-14T11:10:58.171Z"
   },
   {
    "duration": 11,
    "start_time": "2022-10-14T11:11:04.320Z"
   },
   {
    "duration": 16,
    "start_time": "2022-10-14T11:11:08.572Z"
   },
   {
    "duration": 10,
    "start_time": "2022-10-14T11:11:20.545Z"
   },
   {
    "duration": 14,
    "start_time": "2022-10-14T11:11:34.823Z"
   },
   {
    "duration": 10,
    "start_time": "2022-10-14T11:12:12.335Z"
   },
   {
    "duration": 7,
    "start_time": "2022-10-14T11:12:14.252Z"
   },
   {
    "duration": 33,
    "start_time": "2022-10-14T11:12:37.394Z"
   },
   {
    "duration": 2,
    "start_time": "2022-10-14T11:15:41.217Z"
   },
   {
    "duration": 326,
    "start_time": "2022-10-14T11:15:43.184Z"
   },
   {
    "duration": 370,
    "start_time": "2022-10-14T11:16:24.609Z"
   },
   {
    "duration": 344,
    "start_time": "2022-10-14T11:16:32.642Z"
   },
   {
    "duration": 300,
    "start_time": "2022-10-14T11:16:42.226Z"
   },
   {
    "duration": 244,
    "start_time": "2022-10-14T11:17:02.778Z"
   },
   {
    "duration": 316,
    "start_time": "2022-10-14T11:17:56.259Z"
   },
   {
    "duration": 23,
    "start_time": "2022-10-14T11:18:33.685Z"
   },
   {
    "duration": 331,
    "start_time": "2022-10-14T11:18:45.780Z"
   },
   {
    "duration": 306,
    "start_time": "2022-10-14T11:20:02.751Z"
   },
   {
    "duration": 371,
    "start_time": "2022-10-14T11:20:15.171Z"
   },
   {
    "duration": 301,
    "start_time": "2022-10-14T11:21:39.295Z"
   },
   {
    "duration": 316,
    "start_time": "2022-10-14T11:21:42.892Z"
   },
   {
    "duration": 355,
    "start_time": "2022-10-14T11:23:39.314Z"
   },
   {
    "duration": 7,
    "start_time": "2022-10-14T11:23:43.411Z"
   },
   {
    "duration": 9,
    "start_time": "2022-10-14T11:23:45.404Z"
   },
   {
    "duration": 327,
    "start_time": "2022-10-14T11:24:02.863Z"
   },
   {
    "duration": 16,
    "start_time": "2022-10-14T11:24:08.184Z"
   },
   {
    "duration": 267,
    "start_time": "2022-10-14T11:24:18.543Z"
   },
   {
    "duration": 410,
    "start_time": "2022-10-14T11:25:17.861Z"
   },
   {
    "duration": 764,
    "start_time": "2022-10-14T11:27:17.064Z"
   },
   {
    "duration": 520,
    "start_time": "2022-10-14T11:28:00.465Z"
   },
   {
    "duration": 740,
    "start_time": "2022-10-14T11:28:36.574Z"
   },
   {
    "duration": 599,
    "start_time": "2022-10-14T11:29:21.869Z"
   },
   {
    "duration": 180,
    "start_time": "2022-10-14T11:29:52.230Z"
   },
   {
    "duration": 13,
    "start_time": "2022-10-14T11:29:58.207Z"
   },
   {
    "duration": 13,
    "start_time": "2022-10-14T11:30:03.449Z"
   },
   {
    "duration": 102,
    "start_time": "2022-10-14T14:03:52.344Z"
   },
   {
    "duration": 11,
    "start_time": "2022-10-14T14:05:51.128Z"
   },
   {
    "duration": 27,
    "start_time": "2022-10-14T14:06:07.419Z"
   },
   {
    "duration": 25,
    "start_time": "2022-10-14T14:06:37.620Z"
   },
   {
    "duration": 11,
    "start_time": "2022-10-14T14:25:36.266Z"
   },
   {
    "duration": 11,
    "start_time": "2022-10-14T14:25:40.168Z"
   },
   {
    "duration": 17,
    "start_time": "2022-10-14T14:26:01.305Z"
   },
   {
    "duration": 900,
    "start_time": "2022-10-14T14:27:49.594Z"
   },
   {
    "duration": 20,
    "start_time": "2022-10-14T14:28:08.736Z"
   },
   {
    "duration": 945,
    "start_time": "2022-10-14T14:28:12.857Z"
   },
   {
    "duration": 38,
    "start_time": "2022-10-14T14:28:55.183Z"
   },
   {
    "duration": 25,
    "start_time": "2022-10-14T14:29:01.134Z"
   },
   {
    "duration": 38,
    "start_time": "2022-10-14T14:29:07.263Z"
   },
   {
    "duration": 1099,
    "start_time": "2022-10-14T14:30:49.120Z"
   },
   {
    "duration": 3,
    "start_time": "2022-10-14T14:31:23.637Z"
   },
   {
    "duration": 99,
    "start_time": "2022-10-14T14:31:24.755Z"
   },
   {
    "duration": 15,
    "start_time": "2022-10-14T14:31:30.619Z"
   },
   {
    "duration": 28,
    "start_time": "2022-10-14T14:31:50.542Z"
   },
   {
    "duration": 10,
    "start_time": "2022-10-14T14:32:58.903Z"
   },
   {
    "duration": 21,
    "start_time": "2022-10-14T14:33:02.345Z"
   },
   {
    "duration": 30,
    "start_time": "2022-10-14T14:33:04.606Z"
   },
   {
    "duration": 27,
    "start_time": "2022-10-14T14:33:39.748Z"
   },
   {
    "duration": 672,
    "start_time": "2022-10-14T14:33:54.298Z"
   },
   {
    "duration": 120,
    "start_time": "2022-10-14T14:34:00.410Z"
   },
   {
    "duration": 25,
    "start_time": "2022-10-14T14:34:04.731Z"
   },
   {
    "duration": 25,
    "start_time": "2022-10-14T14:34:11.423Z"
   },
   {
    "duration": 457,
    "start_time": "2022-10-14T14:34:17.576Z"
   },
   {
    "duration": 14,
    "start_time": "2022-10-14T14:34:25.202Z"
   },
   {
    "duration": 8,
    "start_time": "2022-10-14T14:34:28.369Z"
   },
   {
    "duration": 37,
    "start_time": "2022-10-14T14:34:29.630Z"
   },
   {
    "duration": 12,
    "start_time": "2022-10-14T14:34:32.371Z"
   },
   {
    "duration": 11,
    "start_time": "2022-10-14T14:34:35.172Z"
   },
   {
    "duration": 11,
    "start_time": "2022-10-14T14:34:42.608Z"
   },
   {
    "duration": 10,
    "start_time": "2022-10-14T14:34:45.930Z"
   },
   {
    "duration": 15,
    "start_time": "2022-10-14T14:34:49.959Z"
   },
   {
    "duration": 12,
    "start_time": "2022-10-14T14:34:57.002Z"
   },
   {
    "duration": 14,
    "start_time": "2022-10-14T14:35:02.139Z"
   },
   {
    "duration": 7,
    "start_time": "2022-10-14T14:35:03.269Z"
   },
   {
    "duration": 3,
    "start_time": "2022-10-14T14:35:55.516Z"
   },
   {
    "duration": 309,
    "start_time": "2022-10-14T14:35:56.451Z"
   },
   {
    "duration": 414,
    "start_time": "2022-10-14T14:35:59.910Z"
   },
   {
    "duration": 4,
    "start_time": "2022-10-14T14:39:56.204Z"
   },
   {
    "duration": 98,
    "start_time": "2022-10-14T14:40:01.362Z"
   },
   {
    "duration": 12,
    "start_time": "2022-10-14T14:40:23.996Z"
   },
   {
    "duration": 15,
    "start_time": "2022-10-14T14:41:12.794Z"
   },
   {
    "duration": 30,
    "start_time": "2022-10-14T14:41:47.474Z"
   },
   {
    "duration": 16,
    "start_time": "2022-10-14T14:42:25.665Z"
   },
   {
    "duration": 1148,
    "start_time": "2022-10-14T14:43:02.275Z"
   },
   {
    "duration": 108,
    "start_time": "2022-10-14T14:43:04.003Z"
   },
   {
    "duration": 14,
    "start_time": "2022-10-14T14:43:05.667Z"
   },
   {
    "duration": 22,
    "start_time": "2022-10-14T14:43:11.247Z"
   },
   {
    "duration": 8,
    "start_time": "2022-10-14T14:43:15.614Z"
   },
   {
    "duration": 21,
    "start_time": "2022-10-14T14:43:17.846Z"
   },
   {
    "duration": 34,
    "start_time": "2022-10-14T14:43:18.382Z"
   },
   {
    "duration": 673,
    "start_time": "2022-10-14T14:43:25.186Z"
   },
   {
    "duration": 122,
    "start_time": "2022-10-14T14:43:28.022Z"
   },
   {
    "duration": 37,
    "start_time": "2022-10-14T14:43:38.658Z"
   },
   {
    "duration": 25,
    "start_time": "2022-10-14T14:43:43.651Z"
   },
   {
    "duration": 521,
    "start_time": "2022-10-14T14:43:47.113Z"
   },
   {
    "duration": 18,
    "start_time": "2022-10-14T14:43:54.529Z"
   },
   {
    "duration": 8,
    "start_time": "2022-10-14T14:43:58.003Z"
   },
   {
    "duration": 36,
    "start_time": "2022-10-14T14:43:59.730Z"
   },
   {
    "duration": 12,
    "start_time": "2022-10-14T14:43:59.769Z"
   },
   {
    "duration": 12,
    "start_time": "2022-10-14T14:44:02.909Z"
   },
   {
    "duration": 27,
    "start_time": "2022-10-14T14:44:05.977Z"
   },
   {
    "duration": 11,
    "start_time": "2022-10-14T14:44:08.101Z"
   },
   {
    "duration": 16,
    "start_time": "2022-10-14T14:44:12.407Z"
   },
   {
    "duration": 18,
    "start_time": "2022-10-14T14:44:14.624Z"
   },
   {
    "duration": 10,
    "start_time": "2022-10-14T14:44:19.301Z"
   },
   {
    "duration": 6,
    "start_time": "2022-10-14T14:44:19.848Z"
   },
   {
    "duration": 125,
    "start_time": "2022-10-14T14:44:22.231Z"
   },
   {
    "duration": 60,
    "start_time": "2022-10-14T14:44:44.441Z"
   },
   {
    "duration": 58,
    "start_time": "2022-10-14T14:45:11.159Z"
   },
   {
    "duration": 75,
    "start_time": "2022-10-14T14:45:18.661Z"
   },
   {
    "duration": 325,
    "start_time": "2022-10-14T14:45:19.707Z"
   },
   {
    "duration": 400,
    "start_time": "2022-10-14T14:45:22.803Z"
   },
   {
    "duration": 332,
    "start_time": "2022-10-14T14:45:55.248Z"
   },
   {
    "duration": 351,
    "start_time": "2022-10-14T14:46:59.764Z"
   },
   {
    "duration": 333,
    "start_time": "2022-10-14T14:47:05.169Z"
   },
   {
    "duration": 36,
    "start_time": "2022-10-14T14:50:18.519Z"
   },
   {
    "duration": 292,
    "start_time": "2022-10-14T14:50:28.480Z"
   },
   {
    "duration": 341,
    "start_time": "2022-10-14T14:50:36.828Z"
   },
   {
    "duration": 317,
    "start_time": "2022-10-14T14:50:47.450Z"
   },
   {
    "duration": 57,
    "start_time": "2022-10-14T14:52:12.884Z"
   },
   {
    "duration": 317,
    "start_time": "2022-10-14T14:52:25.720Z"
   },
   {
    "duration": 425,
    "start_time": "2022-10-14T14:52:27.696Z"
   },
   {
    "duration": 313,
    "start_time": "2022-10-14T14:52:32.717Z"
   },
   {
    "duration": 292,
    "start_time": "2022-10-14T14:52:39.014Z"
   },
   {
    "duration": 294,
    "start_time": "2022-10-14T14:52:45.196Z"
   },
   {
    "duration": 26,
    "start_time": "2022-10-14T14:53:25.071Z"
   },
   {
    "duration": 319,
    "start_time": "2022-10-14T14:54:04.642Z"
   },
   {
    "duration": 28,
    "start_time": "2022-10-14T14:54:54.066Z"
   },
   {
    "duration": 285,
    "start_time": "2022-10-14T14:54:57.442Z"
   },
   {
    "duration": 22,
    "start_time": "2022-10-14T14:56:44.400Z"
   },
   {
    "duration": 301,
    "start_time": "2022-10-14T14:56:45.336Z"
   },
   {
    "duration": 341,
    "start_time": "2022-10-14T14:56:57.968Z"
   },
   {
    "duration": 347,
    "start_time": "2022-10-14T14:57:27.471Z"
   },
   {
    "duration": 317,
    "start_time": "2022-10-14T14:59:01.055Z"
   },
   {
    "duration": 478,
    "start_time": "2022-10-14T14:59:17.173Z"
   },
   {
    "duration": 33,
    "start_time": "2022-10-14T15:00:49.796Z"
   },
   {
    "duration": 357,
    "start_time": "2022-10-14T15:01:08.076Z"
   },
   {
    "duration": 26,
    "start_time": "2022-10-14T15:01:43.464Z"
   },
   {
    "duration": 328,
    "start_time": "2022-10-14T15:01:45.986Z"
   },
   {
    "duration": 322,
    "start_time": "2022-10-14T15:03:21.691Z"
   },
   {
    "duration": 379,
    "start_time": "2022-10-14T15:03:47.651Z"
   },
   {
    "duration": 331,
    "start_time": "2022-10-14T15:03:57.609Z"
   },
   {
    "duration": 279,
    "start_time": "2022-10-14T15:06:41.348Z"
   },
   {
    "duration": 351,
    "start_time": "2022-10-14T15:12:52.294Z"
   },
   {
    "duration": 9,
    "start_time": "2022-10-14T15:13:00.248Z"
   },
   {
    "duration": 9,
    "start_time": "2022-10-14T15:13:02.848Z"
   },
   {
    "duration": 336,
    "start_time": "2022-10-14T15:13:50.734Z"
   },
   {
    "duration": 9,
    "start_time": "2022-10-14T15:13:54.861Z"
   },
   {
    "duration": 7,
    "start_time": "2022-10-14T15:13:56.025Z"
   },
   {
    "duration": 11,
    "start_time": "2022-10-14T15:14:04.795Z"
   },
   {
    "duration": 15,
    "start_time": "2022-10-14T15:14:07.197Z"
   },
   {
    "duration": 7,
    "start_time": "2022-10-14T15:14:44.710Z"
   },
   {
    "duration": 7,
    "start_time": "2022-10-14T15:14:48.464Z"
   },
   {
    "duration": 321,
    "start_time": "2022-10-14T15:14:52.536Z"
   },
   {
    "duration": 417,
    "start_time": "2022-10-14T15:15:26.027Z"
   },
   {
    "duration": 315,
    "start_time": "2022-10-14T15:15:52.248Z"
   },
   {
    "duration": 10,
    "start_time": "2022-10-14T15:15:56.964Z"
   },
   {
    "duration": 8,
    "start_time": "2022-10-14T15:15:58.141Z"
   },
   {
    "duration": 350,
    "start_time": "2022-10-14T15:16:39.802Z"
   },
   {
    "duration": 7,
    "start_time": "2022-10-14T15:16:48.654Z"
   },
   {
    "duration": 7,
    "start_time": "2022-10-14T15:16:50.354Z"
   },
   {
    "duration": 353,
    "start_time": "2022-10-14T15:17:20.054Z"
   },
   {
    "duration": 7,
    "start_time": "2022-10-14T15:17:30.355Z"
   },
   {
    "duration": 7,
    "start_time": "2022-10-14T15:17:32.622Z"
   },
   {
    "duration": 12,
    "start_time": "2022-10-14T15:17:43.257Z"
   },
   {
    "duration": 336,
    "start_time": "2022-10-14T15:18:30.765Z"
   },
   {
    "duration": 8,
    "start_time": "2022-10-14T15:18:45.621Z"
   },
   {
    "duration": 9,
    "start_time": "2022-10-14T15:18:47.132Z"
   },
   {
    "duration": 24,
    "start_time": "2022-10-14T15:31:39.100Z"
   },
   {
    "duration": 300,
    "start_time": "2022-10-14T15:32:24.938Z"
   },
   {
    "duration": 660,
    "start_time": "2022-10-14T15:33:32.940Z"
   },
   {
    "duration": 626,
    "start_time": "2022-10-14T15:33:59.898Z"
   },
   {
    "duration": 743,
    "start_time": "2022-10-14T15:34:49.124Z"
   },
   {
    "duration": 549,
    "start_time": "2022-10-14T15:34:49.868Z"
   },
   {
    "duration": 210,
    "start_time": "2022-10-14T15:35:18.905Z"
   },
   {
    "duration": 176,
    "start_time": "2022-10-14T15:37:10.795Z"
   },
   {
    "duration": 184,
    "start_time": "2022-10-14T15:37:25.773Z"
   },
   {
    "duration": 192,
    "start_time": "2022-10-14T15:37:33.461Z"
   },
   {
    "duration": 280,
    "start_time": "2022-10-14T15:37:40.318Z"
   },
   {
    "duration": 189,
    "start_time": "2022-10-14T15:37:47.712Z"
   },
   {
    "duration": 223,
    "start_time": "2022-10-14T15:37:52.882Z"
   },
   {
    "duration": 14,
    "start_time": "2022-10-14T15:41:40.925Z"
   },
   {
    "duration": 22,
    "start_time": "2022-10-14T15:43:38.876Z"
   }
  ],
  "kernelspec": {
   "display_name": "Python 3 (ipykernel)",
   "language": "python",
   "name": "python3"
  },
  "language_info": {
   "codemirror_mode": {
    "name": "ipython",
    "version": 3
   },
   "file_extension": ".py",
   "mimetype": "text/x-python",
   "name": "python",
   "nbconvert_exporter": "python",
   "pygments_lexer": "ipython3",
   "version": "3.9.12"
  },
  "toc": {
   "base_numbering": 1,
   "nav_menu": {
    "height": "229px",
    "width": "492px"
   },
   "number_sections": true,
   "sideBar": true,
   "skip_h1_title": true,
   "title_cell": "Table of Contents",
   "title_sidebar": "Contents",
   "toc_cell": false,
   "toc_position": {},
   "toc_section_display": true,
   "toc_window_display": false
  }
 },
 "nbformat": 4,
 "nbformat_minor": 2
}
